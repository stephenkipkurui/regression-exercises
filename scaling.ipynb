{
 "cells": [
  {
   "cell_type": "markdown",
   "id": "1abef932",
   "metadata": {},
   "source": [
    "# Scaling Numeric Data"
   ]
  },
  {
   "cell_type": "code",
   "execution_count": 1,
   "id": "4c9aaee6",
   "metadata": {},
   "outputs": [],
   "source": [
    "import os\n",
    "import matplotlib.pyplot as plt\n",
    "import numpy as np\n",
    "import pandas as pd\n",
    "from scipy import stats\n",
    "from wrangle import get_zillow_data\n",
    "from wrangle import wrangle_zillow\n",
    "from sklearn.model_selection import train_test_split\n",
    "from prepare import min_max_scaller, standard_scaller, robust_scaller\n",
    "\n",
    "import sklearn.preprocessing \n",
    "import prepare\n",
    "\n",
    "import warnings\n",
    "warnings.filterwarnings('ignore')"
   ]
  },
  {
   "cell_type": "code",
   "execution_count": 2,
   "id": "e24a2fde",
   "metadata": {},
   "outputs": [
    {
     "name": "stdout",
     "output_type": "stream",
     "text": [
      "Program Status: Acquiring local cached zillow data..\n"
     ]
    }
   ],
   "source": [
    "# Acquire the data\n",
    "zillow = get_zillow_data()"
   ]
  },
  {
   "cell_type": "code",
   "execution_count": 3,
   "id": "3b6a2759",
   "metadata": {},
   "outputs": [
    {
     "data": {
      "text/html": [
       "<div>\n",
       "<style scoped>\n",
       "    .dataframe tbody tr th:only-of-type {\n",
       "        vertical-align: middle;\n",
       "    }\n",
       "\n",
       "    .dataframe tbody tr th {\n",
       "        vertical-align: top;\n",
       "    }\n",
       "\n",
       "    .dataframe thead th {\n",
       "        text-align: right;\n",
       "    }\n",
       "</style>\n",
       "<table border=\"1\" class=\"dataframe\">\n",
       "  <thead>\n",
       "    <tr style=\"text-align: right;\">\n",
       "      <th></th>\n",
       "      <th>bedroomcnt</th>\n",
       "      <th>bathroomcnt</th>\n",
       "      <th>calculatedfinishedsquarefeet</th>\n",
       "      <th>taxvaluedollarcnt</th>\n",
       "      <th>yearbuilt</th>\n",
       "      <th>taxamount</th>\n",
       "      <th>fips</th>\n",
       "    </tr>\n",
       "  </thead>\n",
       "  <tbody>\n",
       "    <tr>\n",
       "      <th>0</th>\n",
       "      <td>0.0</td>\n",
       "      <td>0.0</td>\n",
       "      <td>NaN</td>\n",
       "      <td>27516.0</td>\n",
       "      <td>NaN</td>\n",
       "      <td>NaN</td>\n",
       "      <td>6037.0</td>\n",
       "    </tr>\n",
       "    <tr>\n",
       "      <th>1</th>\n",
       "      <td>0.0</td>\n",
       "      <td>0.0</td>\n",
       "      <td>NaN</td>\n",
       "      <td>10.0</td>\n",
       "      <td>NaN</td>\n",
       "      <td>NaN</td>\n",
       "      <td>6037.0</td>\n",
       "    </tr>\n",
       "    <tr>\n",
       "      <th>2</th>\n",
       "      <td>0.0</td>\n",
       "      <td>0.0</td>\n",
       "      <td>NaN</td>\n",
       "      <td>10.0</td>\n",
       "      <td>NaN</td>\n",
       "      <td>NaN</td>\n",
       "      <td>6037.0</td>\n",
       "    </tr>\n",
       "    <tr>\n",
       "      <th>3</th>\n",
       "      <td>0.0</td>\n",
       "      <td>0.0</td>\n",
       "      <td>NaN</td>\n",
       "      <td>2108.0</td>\n",
       "      <td>NaN</td>\n",
       "      <td>174.21</td>\n",
       "      <td>6037.0</td>\n",
       "    </tr>\n",
       "    <tr>\n",
       "      <th>4</th>\n",
       "      <td>4.0</td>\n",
       "      <td>2.0</td>\n",
       "      <td>3633.0</td>\n",
       "      <td>296425.0</td>\n",
       "      <td>2005.0</td>\n",
       "      <td>6941.39</td>\n",
       "      <td>6037.0</td>\n",
       "    </tr>\n",
       "    <tr>\n",
       "      <th>...</th>\n",
       "      <td>...</td>\n",
       "      <td>...</td>\n",
       "      <td>...</td>\n",
       "      <td>...</td>\n",
       "      <td>...</td>\n",
       "      <td>...</td>\n",
       "      <td>...</td>\n",
       "    </tr>\n",
       "    <tr>\n",
       "      <th>2152858</th>\n",
       "      <td>4.0</td>\n",
       "      <td>3.0</td>\n",
       "      <td>2262.0</td>\n",
       "      <td>960756.0</td>\n",
       "      <td>2015.0</td>\n",
       "      <td>13494.52</td>\n",
       "      <td>6059.0</td>\n",
       "    </tr>\n",
       "    <tr>\n",
       "      <th>2152859</th>\n",
       "      <td>4.0</td>\n",
       "      <td>4.5</td>\n",
       "      <td>3127.0</td>\n",
       "      <td>536061.0</td>\n",
       "      <td>2014.0</td>\n",
       "      <td>6244.16</td>\n",
       "      <td>6059.0</td>\n",
       "    </tr>\n",
       "    <tr>\n",
       "      <th>2152860</th>\n",
       "      <td>0.0</td>\n",
       "      <td>0.0</td>\n",
       "      <td>NaN</td>\n",
       "      <td>208057.0</td>\n",
       "      <td>NaN</td>\n",
       "      <td>5783.88</td>\n",
       "      <td>6059.0</td>\n",
       "    </tr>\n",
       "    <tr>\n",
       "      <th>2152861</th>\n",
       "      <td>3.0</td>\n",
       "      <td>2.5</td>\n",
       "      <td>1974.0</td>\n",
       "      <td>424353.0</td>\n",
       "      <td>2015.0</td>\n",
       "      <td>5302.70</td>\n",
       "      <td>6059.0</td>\n",
       "    </tr>\n",
       "    <tr>\n",
       "      <th>2152862</th>\n",
       "      <td>4.0</td>\n",
       "      <td>4.0</td>\n",
       "      <td>2110.0</td>\n",
       "      <td>554009.0</td>\n",
       "      <td>2014.0</td>\n",
       "      <td>6761.20</td>\n",
       "      <td>6037.0</td>\n",
       "    </tr>\n",
       "  </tbody>\n",
       "</table>\n",
       "<p>2152863 rows × 7 columns</p>\n",
       "</div>"
      ],
      "text/plain": [
       "         bedroomcnt  bathroomcnt  calculatedfinishedsquarefeet  \\\n",
       "0               0.0          0.0                           NaN   \n",
       "1               0.0          0.0                           NaN   \n",
       "2               0.0          0.0                           NaN   \n",
       "3               0.0          0.0                           NaN   \n",
       "4               4.0          2.0                        3633.0   \n",
       "...             ...          ...                           ...   \n",
       "2152858         4.0          3.0                        2262.0   \n",
       "2152859         4.0          4.5                        3127.0   \n",
       "2152860         0.0          0.0                           NaN   \n",
       "2152861         3.0          2.5                        1974.0   \n",
       "2152862         4.0          4.0                        2110.0   \n",
       "\n",
       "         taxvaluedollarcnt  yearbuilt  taxamount    fips  \n",
       "0                  27516.0        NaN        NaN  6037.0  \n",
       "1                     10.0        NaN        NaN  6037.0  \n",
       "2                     10.0        NaN        NaN  6037.0  \n",
       "3                   2108.0        NaN     174.21  6037.0  \n",
       "4                 296425.0     2005.0    6941.39  6037.0  \n",
       "...                    ...        ...        ...     ...  \n",
       "2152858           960756.0     2015.0   13494.52  6059.0  \n",
       "2152859           536061.0     2014.0    6244.16  6059.0  \n",
       "2152860           208057.0        NaN    5783.88  6059.0  \n",
       "2152861           424353.0     2015.0    5302.70  6059.0  \n",
       "2152862           554009.0     2014.0    6761.20  6037.0  \n",
       "\n",
       "[2152863 rows x 7 columns]"
      ]
     },
     "execution_count": 3,
     "metadata": {},
     "output_type": "execute_result"
    }
   ],
   "source": [
    "zillow"
   ]
  },
  {
   "cell_type": "code",
   "execution_count": 4,
   "id": "19e23a13",
   "metadata": {},
   "outputs": [
    {
     "name": "stdout",
     "output_type": "stream",
     "text": [
      "Program Status: Acquiring local cached zillow data..\n"
     ]
    }
   ],
   "source": [
    "# Clean and split the data\n",
    "\n",
    "train, validate, test = wrangle_zillow()"
   ]
  },
  {
   "cell_type": "code",
   "execution_count": 5,
   "id": "99fae6ee",
   "metadata": {},
   "outputs": [
    {
     "data": {
      "text/plain": [
       "((1198531, 7), (513657, 7), (428047, 7))"
      ]
     },
     "execution_count": 5,
     "metadata": {},
     "output_type": "execute_result"
    }
   ],
   "source": [
    "(train.shape, validate.shape, test.shape)"
   ]
  },
  {
   "cell_type": "markdown",
   "id": "e2fda205",
   "metadata": {},
   "source": [
    "### (1). Apply the scalers we talked about in this lesson to your data and visualize the results for the unscaled and scaled distribution ."
   ]
  },
  {
   "cell_type": "markdown",
   "id": "eb645868",
   "metadata": {},
   "source": [
    "# Min-Max Scaling\n",
    "\n",
    "Min-max scaling is a linear scaling method that transforms our features such that the range is between 0 and 1."
   ]
  },
  {
   "cell_type": "code",
   "execution_count": 6,
   "id": "2ce660a0",
   "metadata": {},
   "outputs": [],
   "source": [
    "# Import the scalling library\n",
    "\n",
    "min_max_scaler = sklearn.preprocessing.MinMaxScaler()"
   ]
  },
  {
   "cell_type": "code",
   "execution_count": 7,
   "id": "3c80ab58",
   "metadata": {},
   "outputs": [],
   "source": [
    "# Note that we only call .fit with the training data,\n",
    "# but we use .transform to apply the scaling to all the data splits.\n",
    "\n",
    "min_max_scaler.fit(train)\n",
    "\n",
    "x_train_min_max_scaled = min_max_scaler.transform(train)\n",
    "x_validate_min_max_scaled = min_max_scaler.transform(validate)\n",
    "x_test_min_max_scaled = min_max_scaler.transform(test)"
   ]
  },
  {
   "cell_type": "code",
   "execution_count": 8,
   "id": "8633f298",
   "metadata": {},
   "outputs": [
    {
     "data": {
      "image/png": "[encoded data removed]",
      "text/plain": [
       "<Figure size 1152x504 with 2 Axes>"
      ]
     },
     "metadata": {
      "needs_background": "light"
     },
     "output_type": "display_data"
    }
   ],
   "source": [
    "plt.figure(figsize=(16, 7))\n",
    "plt.subplot(121)\n",
    "plt.hist(train, bins=25, ec='green')\n",
    "plt.title('Original')\n",
    "plt.subplot(122)\n",
    "plt.hist(x_train_min_max_scaled, bins=25, ec='black')\n",
    "plt.title('Min-Max Scaled')\n",
    "plt.show()"
   ]
  },
  {
   "cell_type": "markdown",
   "id": "929ad42b",
   "metadata": {},
   "source": [
    "# Standard Scaler"
   ]
  },
  {
   "cell_type": "code",
   "execution_count": 9,
   "id": "4e59f09b",
   "metadata": {},
   "outputs": [],
   "source": [
    "# Import required library\n",
    "std_scaler = sklearn.preprocessing.StandardScaler()"
   ]
  },
  {
   "cell_type": "code",
   "execution_count": 10,
   "id": "25eb4284",
   "metadata": {},
   "outputs": [],
   "source": [
    "# Note that we only call .fit with the training data,\n",
    "# but we use .transform to apply the scaling to all the data splits.\n",
    "\n",
    "std_scaler.fit(train)\n",
    "\n",
    "x_train_std_scaled = std_scaler.transform(train)\n",
    "x_validate_std_scaled = std_scaler.transform(validate)\n",
    "x_test_std_scaled = std_scaler.transform(test)"
   ]
  },
  {
   "cell_type": "code",
   "execution_count": 11,
   "id": "dc6d9f18",
   "metadata": {},
   "outputs": [
    {
     "data": {
      "text/plain": [
       "Text(0.5, 1.0, 'Scaled')"
      ]
     },
     "execution_count": 11,
     "metadata": {},
     "output_type": "execute_result"
    },
    {
     "data": {
      "image/png": "[encoded data removed]",
      "text/plain": [
       "<Figure size 1152x504 with 2 Axes>"
      ]
     },
     "metadata": {
      "needs_background": "light"
     },
     "output_type": "display_data"
    }
   ],
   "source": [
    "plt.figure(figsize=(16, 7))\n",
    "plt.subplot(121)\n",
    "plt.hist(train, bins=25, ec='green')\n",
    "plt.title('Original')\n",
    "plt.subplot(122)\n",
    "plt.hist(x_train_std_scaled, bins=25, ec='black')\n",
    "plt.title('Scaled')"
   ]
  },
  {
   "cell_type": "markdown",
   "id": "e2dcc794",
   "metadata": {},
   "source": [
    "# Robust Scaler\n",
    "A robust scaler is another linear transformation that follows the same idea as the standard scaler but uses parameters that are more robust to outliers."
   ]
  },
  {
   "cell_type": "code",
   "execution_count": 12,
   "id": "a4bfab44",
   "metadata": {},
   "outputs": [],
   "source": [
    "# Import the required library\n",
    "\n",
    "robust_scaler = sklearn.preprocessing.RobustScaler()"
   ]
  },
  {
   "cell_type": "code",
   "execution_count": 13,
   "id": "05bdb7b3",
   "metadata": {},
   "outputs": [
    {
     "data": {
      "text/plain": [
       "Text(0.5, 1.0, 'Robust Scaled')"
      ]
     },
     "execution_count": 13,
     "metadata": {},
     "output_type": "execute_result"
    },
    {
     "data": {
      "image/png": "[encoded data removed]",
      "text/plain": [
       "<Figure size 1152x504 with 2 Axes>"
      ]
     },
     "metadata": {
      "needs_background": "light"
     },
     "output_type": "display_data"
    }
   ],
   "source": [
    "# Fit the scaller on train set\n",
    "\n",
    "robust_scaler.fit(train)\n",
    "\n",
    "x_train_robust_scaler = robust_scaler.transform(train)\n",
    "x_validate_robust_scaler = robust_scaler.transform(validate)\n",
    "x_test_robust_scaler = robust_scaler.transform(test)\n",
    "\n",
    "\n",
    "# Visualize scaled vs unscalled data\n",
    "plt.figure(figsize = (16, 7))\n",
    "plt.subplot(121)\n",
    "plt.hist(train, bins = 25, ec = 'green')\n",
    "plt.title('Original(unscaled)')\n",
    "\n",
    "plt.subplot(122)\n",
    "plt.hist(x_train_robust_scaler, bins = 25, ec = 'black')\n",
    "plt.title('Robust Scaled')"
   ]
  },
  {
   "cell_type": "markdown",
   "id": "32ff62fb",
   "metadata": {},
   "source": [
    "### (2). Apply the .inverse_transform method to your scaled data. Is the resulting dataset the exact same as the original data?\n"
   ]
  },
  {
   "cell_type": "markdown",
   "id": "bbb07c98",
   "metadata": {},
   "source": [
    "## Inverse Min-Max Scaler"
   ]
  },
  {
   "cell_type": "code",
   "execution_count": 14,
   "id": "d90016a4",
   "metadata": {},
   "outputs": [
    {
     "data": {
      "text/plain": [
       "Text(0.5, 1.0, 'Inverse Scaled Std Histogram')"
      ]
     },
     "execution_count": 14,
     "metadata": {},
     "output_type": "execute_result"
    },
    {
     "data": {
      "image/png": "[encoded data removed]",
      "text/plain": [
       "<Figure size 1152x504 with 3 Axes>"
      ]
     },
     "metadata": {
      "needs_background": "light"
     },
     "output_type": "display_data"
    }
   ],
   "source": [
    "# Inverse Min-Max Scaler\n",
    "\n",
    "# Import the scalling library\n",
    "min_max_scaler = sklearn.preprocessing.MinMaxScaler()\n",
    "\n",
    "# Fit the train\n",
    "min_max_scaler.fit(train)\n",
    "\n",
    "# Min_max transform\n",
    "x_train_min_max_scaled = min_max_scaler.transform(train)\n",
    "x_validate_min_max_scaled = min_max_scaler.transform(validate)\n",
    "x_test_min_max_scaled = min_max_scaler.transform(test)\n",
    "\n",
    "# Perform the inverse on the min-max\n",
    "x_train_inverse_transform= min_max_scaler.inverse_transform(x_train_min_max_scaled)\n",
    "x_validate_inverse_transform = min_max_scaler.inverse_transform(x_validate_min_max_scaled)\n",
    "x_test_inverse_transform = min_max_scaler.inverse_transform(x_test_min_max_scaled)\n",
    "\n",
    "plt.figure(figsize = (16, 7))\n",
    "plt.subplot(131)\n",
    "plt.hist(train, bins = 25, ec = 'green')\n",
    "plt.title('Original')\n",
    "\n",
    "plt.subplot(132)\n",
    "plt.hist(x_train_min_max_scaled, bins = 25, ec = 'green')\n",
    "plt.title('Min-max scaled')\n",
    "\n",
    "\n",
    "plt.subplot(133)\n",
    "plt.hist(x_train_inverse_transform, bins = 25, ec = 'black')\n",
    "plt.title('Inverse Scaled Std Histogram')"
   ]
  },
  {
   "cell_type": "markdown",
   "id": "2a23fb72",
   "metadata": {},
   "source": [
    "## Inverse Standad Scaler"
   ]
  },
  {
   "cell_type": "code",
   "execution_count": 15,
   "id": "5a414be1",
   "metadata": {},
   "outputs": [
    {
     "data": {
      "text/plain": [
       "Text(0.5, 1.0, 'Inverse Scaled Std Histogram')"
      ]
     },
     "execution_count": 15,
     "metadata": {},
     "output_type": "execute_result"
    },
    {
     "data": {
      "image/png": "[encoded data removed]",
      "text/plain": [
       "<Figure size 1152x504 with 3 Axes>"
      ]
     },
     "metadata": {
      "needs_background": "light"
     },
     "output_type": "display_data"
    }
   ],
   "source": [
    "# Inverse Std Scaler\n",
    "\n",
    "# Import the scalling library\n",
    "std_scaler = sklearn.preprocessing.StandardScaler()\n",
    "\n",
    "# Fit the train\n",
    "std_scaler.fit(train)\n",
    "\n",
    "x_train_std_scaled = std_scaler.transform(train)\n",
    "x_validate_std_scaled = std_scaler.transform(validate)\n",
    "x_test_std_scaled = std_scaler.transform(test)\n",
    "\n",
    "# Perform the inverse on the min-max\n",
    "x_train_inverse_transform = std_scaler.inverse_transform(x_train_std_scaled)\n",
    "x_validate_inverse_transform = std_scaler.inverse_transform(x_validate_std_scaled)\n",
    "x_test_inverse_transform = std_scaler.inverse_transform(x_test_std_scaled)\n",
    "\n",
    "plt.figure(figsize = (16, 7))\n",
    "plt.subplot(131)\n",
    "plt.hist(train, bins = 25, ec = 'green')\n",
    "plt.title('Original')\n",
    "\n",
    "plt.subplot(132)\n",
    "plt.hist(x_train_std_scaled, bins = 25, ec = 'red')\n",
    "plt.title('Std scaled')\n",
    "\n",
    "\n",
    "plt.subplot(133)\n",
    "plt.hist(x_train_inverse_transform, bins = 25, ec = 'black')\n",
    "plt.title('Inverse Scaled Std Histogram')"
   ]
  },
  {
   "cell_type": "markdown",
   "id": "00f138aa",
   "metadata": {},
   "source": [
    "## Inverse Robust Scaler\n"
   ]
  },
  {
   "cell_type": "code",
   "execution_count": 16,
   "id": "e96b4b98",
   "metadata": {},
   "outputs": [
    {
     "data": {
      "text/plain": [
       "Text(0.5, 1.0, 'Inverse Scaled Robust Histogram')"
      ]
     },
     "execution_count": 16,
     "metadata": {},
     "output_type": "execute_result"
    },
    {
     "data": {
      "image/png": "[encoded data removed]",
      "text/plain": [
       "<Figure size 1152x504 with 3 Axes>"
      ]
     },
     "metadata": {
      "needs_background": "light"
     },
     "output_type": "display_data"
    }
   ],
   "source": [
    "# Import the scalling library\n",
    "robust_scaler = sklearn.preprocessing.RobustScaler()\n",
    "\n",
    "# Fit the train\n",
    "robust_scaler.fit(train)\n",
    "\n",
    "x_train_robust_scaled = robust_scaler.transform(train)\n",
    "x_validate_robust_scaled = robust_scaler.transform(validate)\n",
    "x_test_robust_scaled = robust_scaler.transform(test)\n",
    "\n",
    "# Perform the inverse on the min-max\n",
    "x_train_inverse_robust_transform = robust_scaler.inverse_transform(x_train_robust_scaled)\n",
    "x_validate_inverse_robust_transform = robust_scaler.inverse_transform(x_validate_robust_scaled)\n",
    "x_test_inverse_robust_transform = robust_scaler.inverse_transform(x_test_robust_scaled)\n",
    "\n",
    "plt.figure(figsize = (16, 7))\n",
    "plt.subplot(131)\n",
    "plt.hist(train, bins = 25, ec = 'green')\n",
    "plt.title('Original')\n",
    "\n",
    "plt.subplot(132)\n",
    "plt.hist(x_train_robust_scaled, bins = 25, ec = 'red')\n",
    "plt.title('Std scaled')\n",
    "\n",
    "\n",
    "plt.subplot(133)\n",
    "plt.hist(x_train_inverse_robust_transform, bins = 25, ec = 'black')\n",
    "plt.title('Inverse Scaled Robust Histogram')"
   ]
  },
  {
   "cell_type": "markdown",
   "id": "d82fb0e7",
   "metadata": {},
   "source": [
    "### (3). Read the documentation for sklearn's QuantileTransformer. Use normal for the output_distribution and apply this scaler to your data. Visualize the result of your data scaling."
   ]
  },
  {
   "cell_type": "code",
   "execution_count": 17,
   "id": "7e9c76fb",
   "metadata": {},
   "outputs": [],
   "source": [
    "# Import the required quantile transformer\n",
    "\n",
    "from sklearn.preprocessing import QuantileTransformer"
   ]
  },
  {
   "cell_type": "code",
   "execution_count": 18,
   "id": "aee3c9f7",
   "metadata": {},
   "outputs": [
    {
     "data": {
      "text/plain": [
       "QuantileTransformer(output_distribution='normal', random_state=123)"
      ]
     },
     "execution_count": 18,
     "metadata": {},
     "output_type": "execute_result"
    }
   ],
   "source": [
    "# Call the tranformer library\n",
    "quantile_tranformer = sklearn.preprocessing.QuantileTransformer(output_distribution = 'normal' , random_state = 123)\n",
    "\n",
    "# Fit the train\n",
    "quantile_tranformer.fit(train)"
   ]
  },
  {
   "cell_type": "code",
   "execution_count": 19,
   "id": "f0680cd1",
   "metadata": {},
   "outputs": [
    {
     "data": {
      "image/png": "[encoded data removed]",
      "text/plain": [
       "<Figure size 1152x504 with 2 Axes>"
      ]
     },
     "metadata": {
      "needs_background": "light"
     },
     "output_type": "display_data"
    }
   ],
   "source": [
    "# Fit the validate\n",
    "x_train_quatile_tranformer = quantile_tranformer.transform(train)\n",
    "x_validate_quatile_tranformer = quantile_tranformer.transform(validate)\n",
    "x_test_quatile_tranformer = quantile_tranformer.transform(test)\n",
    "\n",
    "plt.figure(figsize= (16, 7))\n",
    "plt.subplot(121)\n",
    "plt.hist(train, ec ='black')\n",
    "plt.title('Original')\n",
    "plt.subplot(122)\n",
    "plt.hist(x_train_quatile_tranformer, ec ='red')\n",
    "plt.title('Quantile Transformer')\n",
    "plt.show()"
   ]
  },
  {
   "cell_type": "markdown",
   "id": "91199083",
   "metadata": {},
   "source": [
    "### (4). Use the QuantileTransformer, but omit the output_distribution argument. Visualize your results. What do you notice?"
   ]
  },
  {
   "cell_type": "code",
   "execution_count": 20,
   "id": "742ed55c",
   "metadata": {},
   "outputs": [
    {
     "data": {
      "image/png": "[encoded data removed]",
      "text/plain": [
       "<Figure size 1152x504 with 2 Axes>"
      ]
     },
     "metadata": {
      "needs_background": "light"
     },
     "output_type": "display_data"
    }
   ],
   "source": [
    "# Import the required quantile transformer\n",
    "\n",
    "from sklearn.preprocessing import QuantileTransformer\n",
    "\n",
    "# Call the tranformer library (omitted the output distribution)\n",
    "quantile_tranformer = sklearn.preprocessing.QuantileTransformer(random_state = 123)\n",
    "\n",
    "# Fit the train\n",
    "quantile_tranformer.fit(train)\n",
    "\n",
    "# Fit the validate\n",
    "x_train_quatile_tranformer = quantile_tranformer.transform(train)\n",
    "x_validate_quatile_tranformer = quantile_tranformer.transform(validate)\n",
    "x_test_quatile_tranformer = quantile_tranformer.transform(test)\n",
    "\n",
    "plt.figure(figsize= (16, 7))\n",
    "plt.subplot(121)\n",
    "plt.hist(train, ec ='black')\n",
    "plt.title('Original')\n",
    "plt.subplot(122)\n",
    "plt.hist(x_train_quatile_tranformer, ec ='red')\n",
    "plt.title('Quantile Transformer Without Output Distribution')\n",
    "plt.show()"
   ]
  },
  {
   "cell_type": "markdown",
   "id": "b5f75242",
   "metadata": {},
   "source": [
    "### (5). Based on the work you've done, choose a scaling method for your dataset. Write a function within your prepare.py that accepts as input the train, validate, and test data splits, and returns the scaled versions of each. Be sure to only learn the parameters for scaling from your training data!"
   ]
  },
  {
   "cell_type": "code",
   "execution_count": 21,
   "id": "9a55cb28",
   "metadata": {},
   "outputs": [
    {
     "name": "stdout",
     "output_type": "stream",
     "text": [
      "Program Status: Acquiring local cached zillow data..\n"
     ]
    }
   ],
   "source": [
    "x, y, z = min_max_scaller()"
   ]
  },
  {
   "cell_type": "code",
   "execution_count": null,
   "id": "3f43ea93",
   "metadata": {},
   "outputs": [],
   "source": []
  },
  {
   "cell_type": "code",
   "execution_count": null,
   "id": "9652c061",
   "metadata": {},
   "outputs": [],
   "source": []
  }
 ],
 "metadata": {
  "kernelspec": {
   "display_name": "Python 3 (ipykernel)",
   "language": "python",
   "name": "python3"
  },
  "language_info": {
   "codemirror_mode": {
    "name": "ipython",
    "version": 3
   },
   "file_extension": ".py",
   "mimetype": "text/x-python",
   "name": "python",
   "nbconvert_exporter": "python",
   "pygments_lexer": "ipython3",
   "version": "3.9.7"
  }
 },
 "nbformat": 4,
 "nbformat_minor": 5
}
