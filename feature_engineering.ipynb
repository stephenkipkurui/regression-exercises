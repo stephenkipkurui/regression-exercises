{
 "cells": [
  {
   "cell_type": "markdown",
   "id": "5690ebe0",
   "metadata": {},
   "source": [
    "> # <u>Regression Model: Feature Engineering</u>"
   ]
  },
  {
   "cell_type": "markdown",
   "id": "568030f5",
   "metadata": {},
   "source": [
    "## # 1. Assignment Scope: \n",
    "\n",
    "Load the tips dataset.\n",
    "\n",
    "(a). Create a column named price_per_person. This should be the total bill divided by the party size.\n",
    "\n",
    "(b). Before using any of the methods discussed in the lesson, which features do you think would be most important for predicting the tip amount?\n",
    "\n",
    "(c). Use select k best to select the top 2 features for predicting tip amount. What are they?\n",
    "\n",
    "(d). Use recursive feature elimination to select the top 2 features for tip amount. What are they?\n",
    "\n",
    "(e). Why do you think select k best and recursive feature elimination might give different answers for the top features? Does this change as you change the number of features your are selecting?"
   ]
  },
  {
   "cell_type": "markdown",
   "id": "f47fa46a",
   "metadata": {},
   "source": [
    "## Import required Libraries"
   ]
  },
  {
   "cell_type": "code",
   "execution_count": 1,
   "id": "356d60ef",
   "metadata": {},
   "outputs": [],
   "source": [
    "import pandas as pd \n",
    "import numpy as np\n",
    "import seaborn as sns\n",
    "import matplotlib.pyplot as plt\n",
    "\n",
    "from sklearn.feature_selection import SelectKBest, f_regression, RFE, SequentialFeatureSelector\n",
    "from sklearn.linear_model import LinearRegression\n",
    "from sklearn.model_selection import train_test_split\n",
    "from sklearn.preprocessing import StandardScaler\n",
    "\n",
    "from feature_eng_modules import train_split, scale_tips_data, get_tips_data, get_swiss_data\n",
    "from feature_eng_modules import select_kbest, rfe\n",
    "\n",
    "import warnings\n",
    "warnings.filterwarnings('ignore')\n",
    "\n"
   ]
  },
  {
   "cell_type": "markdown",
   "id": "b2dca9ac",
   "metadata": {},
   "source": [
    "## Acquire the data"
   ]
  },
  {
   "cell_type": "code",
   "execution_count": 39,
   "id": "3883cda3",
   "metadata": {},
   "outputs": [
    {
     "data": {
      "text/html": [
       "<div>\n",
       "<style scoped>\n",
       "    .dataframe tbody tr th:only-of-type {\n",
       "        vertical-align: middle;\n",
       "    }\n",
       "\n",
       "    .dataframe tbody tr th {\n",
       "        vertical-align: top;\n",
       "    }\n",
       "\n",
       "    .dataframe thead th {\n",
       "        text-align: right;\n",
       "    }\n",
       "</style>\n",
       "<table border=\"1\" class=\"dataframe\">\n",
       "  <thead>\n",
       "    <tr style=\"text-align: right;\">\n",
       "      <th></th>\n",
       "      <th>total_bill</th>\n",
       "      <th>tip</th>\n",
       "      <th>sex</th>\n",
       "      <th>smoker</th>\n",
       "      <th>day</th>\n",
       "      <th>time</th>\n",
       "      <th>size</th>\n",
       "    </tr>\n",
       "  </thead>\n",
       "  <tbody>\n",
       "    <tr>\n",
       "      <th>1</th>\n",
       "      <td>16.99</td>\n",
       "      <td>1.01</td>\n",
       "      <td>0</td>\n",
       "      <td>0</td>\n",
       "      <td>7</td>\n",
       "      <td>1</td>\n",
       "      <td>2</td>\n",
       "    </tr>\n",
       "    <tr>\n",
       "      <th>2</th>\n",
       "      <td>10.34</td>\n",
       "      <td>1.66</td>\n",
       "      <td>1</td>\n",
       "      <td>0</td>\n",
       "      <td>7</td>\n",
       "      <td>1</td>\n",
       "      <td>3</td>\n",
       "    </tr>\n",
       "    <tr>\n",
       "      <th>3</th>\n",
       "      <td>21.01</td>\n",
       "      <td>3.50</td>\n",
       "      <td>1</td>\n",
       "      <td>0</td>\n",
       "      <td>7</td>\n",
       "      <td>1</td>\n",
       "      <td>3</td>\n",
       "    </tr>\n",
       "    <tr>\n",
       "      <th>4</th>\n",
       "      <td>23.68</td>\n",
       "      <td>3.31</td>\n",
       "      <td>1</td>\n",
       "      <td>0</td>\n",
       "      <td>7</td>\n",
       "      <td>1</td>\n",
       "      <td>2</td>\n",
       "    </tr>\n",
       "    <tr>\n",
       "      <th>5</th>\n",
       "      <td>24.59</td>\n",
       "      <td>3.61</td>\n",
       "      <td>0</td>\n",
       "      <td>0</td>\n",
       "      <td>7</td>\n",
       "      <td>1</td>\n",
       "      <td>4</td>\n",
       "    </tr>\n",
       "  </tbody>\n",
       "</table>\n",
       "</div>"
      ],
      "text/plain": [
       "   total_bill   tip  sex  smoker  day  time  size\n",
       "1       16.99  1.01    0       0    7     1     2\n",
       "2       10.34  1.66    1       0    7     1     3\n",
       "3       21.01  3.50    1       0    7     1     3\n",
       "4       23.68  3.31    1       0    7     1     2\n",
       "5       24.59  3.61    0       0    7     1     4"
      ]
     },
     "execution_count": 39,
     "metadata": {},
     "output_type": "execute_result"
    }
   ],
   "source": [
    "tips = get_tips_data()\n",
    "tips.head()"
   ]
  },
  {
   "cell_type": "markdown",
   "id": "1884e789",
   "metadata": {},
   "source": [
    "### (a). Create a column named price_per_person. This should be the total bill divided by the party size.\n"
   ]
  },
  {
   "cell_type": "code",
   "execution_count": 40,
   "id": "8994fc9b",
   "metadata": {},
   "outputs": [
    {
     "data": {
      "text/html": [
       "<div>\n",
       "<style scoped>\n",
       "    .dataframe tbody tr th:only-of-type {\n",
       "        vertical-align: middle;\n",
       "    }\n",
       "\n",
       "    .dataframe tbody tr th {\n",
       "        vertical-align: top;\n",
       "    }\n",
       "\n",
       "    .dataframe thead th {\n",
       "        text-align: right;\n",
       "    }\n",
       "</style>\n",
       "<table border=\"1\" class=\"dataframe\">\n",
       "  <thead>\n",
       "    <tr style=\"text-align: right;\">\n",
       "      <th></th>\n",
       "      <th>total_bill</th>\n",
       "      <th>tip</th>\n",
       "      <th>sex</th>\n",
       "      <th>smoker</th>\n",
       "      <th>day</th>\n",
       "      <th>time</th>\n",
       "      <th>size</th>\n",
       "      <th>price_per_person</th>\n",
       "    </tr>\n",
       "  </thead>\n",
       "  <tbody>\n",
       "    <tr>\n",
       "      <th>1</th>\n",
       "      <td>16.99</td>\n",
       "      <td>1.01</td>\n",
       "      <td>0</td>\n",
       "      <td>0</td>\n",
       "      <td>7</td>\n",
       "      <td>1</td>\n",
       "      <td>2</td>\n",
       "      <td>8.495000</td>\n",
       "    </tr>\n",
       "    <tr>\n",
       "      <th>2</th>\n",
       "      <td>10.34</td>\n",
       "      <td>1.66</td>\n",
       "      <td>1</td>\n",
       "      <td>0</td>\n",
       "      <td>7</td>\n",
       "      <td>1</td>\n",
       "      <td>3</td>\n",
       "      <td>3.446667</td>\n",
       "    </tr>\n",
       "    <tr>\n",
       "      <th>3</th>\n",
       "      <td>21.01</td>\n",
       "      <td>3.50</td>\n",
       "      <td>1</td>\n",
       "      <td>0</td>\n",
       "      <td>7</td>\n",
       "      <td>1</td>\n",
       "      <td>3</td>\n",
       "      <td>7.003333</td>\n",
       "    </tr>\n",
       "    <tr>\n",
       "      <th>4</th>\n",
       "      <td>23.68</td>\n",
       "      <td>3.31</td>\n",
       "      <td>1</td>\n",
       "      <td>0</td>\n",
       "      <td>7</td>\n",
       "      <td>1</td>\n",
       "      <td>2</td>\n",
       "      <td>11.840000</td>\n",
       "    </tr>\n",
       "    <tr>\n",
       "      <th>5</th>\n",
       "      <td>24.59</td>\n",
       "      <td>3.61</td>\n",
       "      <td>0</td>\n",
       "      <td>0</td>\n",
       "      <td>7</td>\n",
       "      <td>1</td>\n",
       "      <td>4</td>\n",
       "      <td>6.147500</td>\n",
       "    </tr>\n",
       "  </tbody>\n",
       "</table>\n",
       "</div>"
      ],
      "text/plain": [
       "   total_bill   tip  sex  smoker  day  time  size  price_per_person\n",
       "1       16.99  1.01    0       0    7     1     2          8.495000\n",
       "2       10.34  1.66    1       0    7     1     3          3.446667\n",
       "3       21.01  3.50    1       0    7     1     3          7.003333\n",
       "4       23.68  3.31    1       0    7     1     2         11.840000\n",
       "5       24.59  3.61    0       0    7     1     4          6.147500"
      ]
     },
     "execution_count": 40,
     "metadata": {},
     "output_type": "execute_result"
    }
   ],
   "source": [
    "# Multiplied by 1000 to remove the decimals*\n",
    "\n",
    "# tips.size == rows * cols\n",
    "# tips['size'] == correct form in this example\n",
    "\n",
    "tips['price_per_person'] = ((tips.total_bill / tips['size']))\n",
    "tips.head()"
   ]
  },
  {
   "cell_type": "markdown",
   "id": "18fb3c12",
   "metadata": {},
   "source": [
    "## Split the data "
   ]
  },
  {
   "cell_type": "code",
   "execution_count": 41,
   "id": "efe83445",
   "metadata": {},
   "outputs": [
    {
     "name": "stdout",
     "output_type": "stream",
     "text": [
      "(135, 8) (59, 8) (49, 8)\n"
     ]
    }
   ],
   "source": [
    "train, validate, test = train_split(tips)\n",
    "print(train.shape, validate.shape, test.shape)"
   ]
  },
  {
   "cell_type": "markdown",
   "id": "ded968cb",
   "metadata": {},
   "source": [
    "# Scale the data\n",
    "\n",
    ">- ##### It is important that data scaling happens after data splitting. We don't want to leak information from our test/validate splits by using those to calculate parameters for scaling."
   ]
  },
  {
   "cell_type": "code",
   "execution_count": 42,
   "id": "c16a5727",
   "metadata": {},
   "outputs": [],
   "source": [
    "# # Scaled data \n",
    "\n",
    "# train_scaled, validate_scaled, test_scaled = scale_tips_data(train, validate, test)\n",
    "# train_scaled, validate_scaled, test_scaled"
   ]
  },
  {
   "cell_type": "markdown",
   "id": "936ea5ad",
   "metadata": {},
   "source": [
    "## (Returned data from function is encorded data**) \n",
    "\n",
    ">- #### Encoding Key:\n",
    ">- ##### Mon == 1, .... Sun == 7\n",
    ">- ##### Male == 1, Female == 0\n",
    ">- ##### Yes == 1, No == 0\n"
   ]
  },
  {
   "cell_type": "code",
   "execution_count": 43,
   "id": "7e1419c2",
   "metadata": {},
   "outputs": [
    {
     "data": {
      "text/plain": [
       "Index(['total_bill', 'tip', 'sex', 'smoker', 'day', 'time', 'size',\n",
       "       'price_per_person'],\n",
       "      dtype='object')"
      ]
     },
     "execution_count": 43,
     "metadata": {},
     "output_type": "execute_result"
    }
   ],
   "source": [
    "train.columns"
   ]
  },
  {
   "cell_type": "code",
   "execution_count": 44,
   "id": "ada41d20",
   "metadata": {},
   "outputs": [],
   "source": [
    "X_train = train[['total_bill', 'sex','smoker', 'day', 'time', 'size', 'price_per_person']]\n",
    "y_train = train.tip\n",
    "\n",
    "X_validate = validate[['total_bill', 'sex','smoker', 'day', 'time', 'size', 'price_per_person']]\n",
    "y_validate = validate.tip\n",
    "\n",
    "X_test = test[['total_bill', 'sex','smoker', 'day', 'time', 'size', 'price_per_person']]\n",
    "y_test = test.tip\n"
   ]
  },
  {
   "cell_type": "code",
   "execution_count": 45,
   "id": "95cb7c96",
   "metadata": {},
   "outputs": [
    {
     "data": {
      "text/html": [
       "<div>\n",
       "<style scoped>\n",
       "    .dataframe tbody tr th:only-of-type {\n",
       "        vertical-align: middle;\n",
       "    }\n",
       "\n",
       "    .dataframe tbody tr th {\n",
       "        vertical-align: top;\n",
       "    }\n",
       "\n",
       "    .dataframe thead th {\n",
       "        text-align: right;\n",
       "    }\n",
       "</style>\n",
       "<table border=\"1\" class=\"dataframe\">\n",
       "  <thead>\n",
       "    <tr style=\"text-align: right;\">\n",
       "      <th></th>\n",
       "      <th>total_bill</th>\n",
       "      <th>sex</th>\n",
       "      <th>smoker</th>\n",
       "      <th>day</th>\n",
       "      <th>time</th>\n",
       "      <th>size</th>\n",
       "      <th>price_per_person</th>\n",
       "    </tr>\n",
       "  </thead>\n",
       "  <tbody>\n",
       "    <tr>\n",
       "      <th>149</th>\n",
       "      <td>9.78</td>\n",
       "      <td>1</td>\n",
       "      <td>0</td>\n",
       "      <td>4</td>\n",
       "      <td>0</td>\n",
       "      <td>2</td>\n",
       "      <td>4.890</td>\n",
       "    </tr>\n",
       "    <tr>\n",
       "      <th>214</th>\n",
       "      <td>13.27</td>\n",
       "      <td>0</td>\n",
       "      <td>1</td>\n",
       "      <td>6</td>\n",
       "      <td>1</td>\n",
       "      <td>2</td>\n",
       "      <td>6.635</td>\n",
       "    </tr>\n",
       "    <tr>\n",
       "      <th>15</th>\n",
       "      <td>14.83</td>\n",
       "      <td>0</td>\n",
       "      <td>0</td>\n",
       "      <td>7</td>\n",
       "      <td>1</td>\n",
       "      <td>2</td>\n",
       "      <td>7.415</td>\n",
       "    </tr>\n",
       "    <tr>\n",
       "      <th>97</th>\n",
       "      <td>27.28</td>\n",
       "      <td>1</td>\n",
       "      <td>1</td>\n",
       "      <td>5</td>\n",
       "      <td>1</td>\n",
       "      <td>2</td>\n",
       "      <td>13.640</td>\n",
       "    </tr>\n",
       "    <tr>\n",
       "      <th>124</th>\n",
       "      <td>15.95</td>\n",
       "      <td>1</td>\n",
       "      <td>0</td>\n",
       "      <td>4</td>\n",
       "      <td>0</td>\n",
       "      <td>2</td>\n",
       "      <td>7.975</td>\n",
       "    </tr>\n",
       "  </tbody>\n",
       "</table>\n",
       "</div>"
      ],
      "text/plain": [
       "     total_bill  sex  smoker  day  time  size  price_per_person\n",
       "149        9.78    1       0    4     0     2             4.890\n",
       "214       13.27    0       1    6     1     2             6.635\n",
       "15        14.83    0       0    7     1     2             7.415\n",
       "97        27.28    1       1    5     1     2            13.640\n",
       "124       15.95    1       0    4     0     2             7.975"
      ]
     },
     "execution_count": 45,
     "metadata": {},
     "output_type": "execute_result"
    }
   ],
   "source": [
    "# Examine the data\n",
    "X_train.head()"
   ]
  },
  {
   "cell_type": "markdown",
   "id": "cb832a0e",
   "metadata": {},
   "source": [
    "### (b). Before using any of the methods discussed in the lesson, which features do you think would be most important for predicting the tip amount?\n",
    "\n",
    "> I think price per person is better than total bill as it narrows down to persons which has more meaning in understanding behaviors.\n",
    "\n",
    "> Dinner would also be a good/ interesting predictor to observe disparities by meals times\n",
    "\n",
    "\n",
    "\n"
   ]
  },
  {
   "cell_type": "markdown",
   "id": "4173b687",
   "metadata": {},
   "source": [
    "### (c). Use select <u>KBest</u> to select the top 2 features for predicting tip amount. What are they?\n",
    "\n",
    "> #### KBest Recommends 'tip' & 'price_per_person'"
   ]
  },
  {
   "cell_type": "code",
   "execution_count": 46,
   "id": "fc3573dc",
   "metadata": {},
   "outputs": [
    {
     "data": {
      "text/plain": [
       "SelectKBest(k=2, score_func=<function f_regression at 0x7f7941ace4c0>)"
      ]
     },
     "execution_count": 46,
     "metadata": {},
     "output_type": "execute_result"
    }
   ],
   "source": [
    "## SelectKBest lib' already imported above. continuing....\n",
    "\n",
    "kbest = SelectKBest(f_regression, k = 2)\n",
    "\n",
    "kbest.fit(X_train, y_train)"
   ]
  },
  {
   "cell_type": "code",
   "execution_count": 47,
   "id": "e6b90ade",
   "metadata": {},
   "outputs": [
    {
     "data": {
      "text/html": [
       "<div>\n",
       "<style scoped>\n",
       "    .dataframe tbody tr th:only-of-type {\n",
       "        vertical-align: middle;\n",
       "    }\n",
       "\n",
       "    .dataframe tbody tr th {\n",
       "        vertical-align: top;\n",
       "    }\n",
       "\n",
       "    .dataframe thead th {\n",
       "        text-align: right;\n",
       "    }\n",
       "</style>\n",
       "<table border=\"1\" class=\"dataframe\">\n",
       "  <thead>\n",
       "    <tr style=\"text-align: right;\">\n",
       "      <th></th>\n",
       "      <th>p</th>\n",
       "      <th>f</th>\n",
       "    </tr>\n",
       "  </thead>\n",
       "  <tbody>\n",
       "    <tr>\n",
       "      <th>total_bill</th>\n",
       "      <td>1.133953e-16</td>\n",
       "      <td>90.388913</td>\n",
       "    </tr>\n",
       "    <tr>\n",
       "      <th>sex</th>\n",
       "      <td>1.865121e-01</td>\n",
       "      <td>1.763105</td>\n",
       "    </tr>\n",
       "    <tr>\n",
       "      <th>smoker</th>\n",
       "      <td>5.950088e-01</td>\n",
       "      <td>0.283957</td>\n",
       "    </tr>\n",
       "    <tr>\n",
       "      <th>day</th>\n",
       "      <td>1.233037e-02</td>\n",
       "      <td>6.437157</td>\n",
       "    </tr>\n",
       "    <tr>\n",
       "      <th>time</th>\n",
       "      <td>3.174534e-02</td>\n",
       "      <td>4.711034</td>\n",
       "    </tr>\n",
       "    <tr>\n",
       "      <th>size</th>\n",
       "      <td>6.156797e-13</td>\n",
       "      <td>63.608371</td>\n",
       "    </tr>\n",
       "    <tr>\n",
       "      <th>price_per_person</th>\n",
       "      <td>1.346994e-02</td>\n",
       "      <td>6.272655</td>\n",
       "    </tr>\n",
       "  </tbody>\n",
       "</table>\n",
       "</div>"
      ],
      "text/plain": [
       "                             p          f\n",
       "total_bill        1.133953e-16  90.388913\n",
       "sex               1.865121e-01   1.763105\n",
       "smoker            5.950088e-01   0.283957\n",
       "day               1.233037e-02   6.437157\n",
       "time              3.174534e-02   4.711034\n",
       "size              6.156797e-13  63.608371\n",
       "price_per_person  1.346994e-02   6.272655"
      ]
     },
     "execution_count": 47,
     "metadata": {},
     "output_type": "execute_result"
    }
   ],
   "source": [
    "kbest_results = pd.DataFrame(dict(p = kbest.pvalues_, \n",
    "                                  f = kbest.scores_), \n",
    "                             index = X_train.columns)\n",
    "kbest_results\n"
   ]
  },
  {
   "cell_type": "markdown",
   "id": "2f09ac08",
   "metadata": {},
   "source": [
    "### Get KBest predictors for tip"
   ]
  },
  {
   "cell_type": "code",
   "execution_count": 48,
   "id": "9a676d88",
   "metadata": {},
   "outputs": [
    {
     "data": {
      "text/plain": [
       "Index(['total_bill', 'size'], dtype='object')"
      ]
     },
     "execution_count": 48,
     "metadata": {},
     "output_type": "execute_result"
    }
   ],
   "source": [
    "X_train.columns[kbest.get_support()]"
   ]
  },
  {
   "cell_type": "code",
   "execution_count": 49,
   "id": "4552a1cd",
   "metadata": {},
   "outputs": [
    {
     "data": {
      "text/html": [
       "<div>\n",
       "<style scoped>\n",
       "    .dataframe tbody tr th:only-of-type {\n",
       "        vertical-align: middle;\n",
       "    }\n",
       "\n",
       "    .dataframe tbody tr th {\n",
       "        vertical-align: top;\n",
       "    }\n",
       "\n",
       "    .dataframe thead th {\n",
       "        text-align: right;\n",
       "    }\n",
       "</style>\n",
       "<table border=\"1\" class=\"dataframe\">\n",
       "  <thead>\n",
       "    <tr style=\"text-align: right;\">\n",
       "      <th></th>\n",
       "      <th>total_bill</th>\n",
       "      <th>size</th>\n",
       "    </tr>\n",
       "  </thead>\n",
       "  <tbody>\n",
       "    <tr>\n",
       "      <th>149</th>\n",
       "      <td>9.78</td>\n",
       "      <td>2.0</td>\n",
       "    </tr>\n",
       "    <tr>\n",
       "      <th>214</th>\n",
       "      <td>13.27</td>\n",
       "      <td>2.0</td>\n",
       "    </tr>\n",
       "    <tr>\n",
       "      <th>15</th>\n",
       "      <td>14.83</td>\n",
       "      <td>2.0</td>\n",
       "    </tr>\n",
       "    <tr>\n",
       "      <th>97</th>\n",
       "      <td>27.28</td>\n",
       "      <td>2.0</td>\n",
       "    </tr>\n",
       "    <tr>\n",
       "      <th>124</th>\n",
       "      <td>15.95</td>\n",
       "      <td>2.0</td>\n",
       "    </tr>\n",
       "  </tbody>\n",
       "</table>\n",
       "</div>"
      ],
      "text/plain": [
       "     total_bill  size\n",
       "149        9.78   2.0\n",
       "214       13.27   2.0\n",
       "15        14.83   2.0\n",
       "97        27.28   2.0\n",
       "124       15.95   2.0"
      ]
     },
     "execution_count": 49,
     "metadata": {},
     "output_type": "execute_result"
    }
   ],
   "source": [
    "\n",
    "X_train_transformed = pd.DataFrame(kbest.transform(X_train),index = X_train.index,\n",
    "                                   columns = X_train.columns[kbest.get_support()])\n",
    "\n",
    "X_train_transformed.head()\n"
   ]
  },
  {
   "cell_type": "markdown",
   "id": "5373ecb1",
   "metadata": {},
   "source": [
    "### (d). Use <u>Recursive Feature Elimination (RFE)</u> to select the top 2 features for tip amount. What are they?\n",
    "\n",
    ">- ##### RFE recommends tip, & size\n"
   ]
  },
  {
   "cell_type": "code",
   "execution_count": 50,
   "id": "39bcc48b",
   "metadata": {},
   "outputs": [
    {
     "data": {
      "text/plain": [
       "RFE(estimator=LinearRegression(), n_features_to_select=2)"
      ]
     },
     "execution_count": 50,
     "metadata": {},
     "output_type": "execute_result"
    }
   ],
   "source": [
    "# Call linear reg'\n",
    "model = LinearRegression()\n",
    "\n",
    "# Fit the model and select best two features (n_features_to_select = 2)\n",
    "rfe = RFE(model, n_features_to_select = 2)\n",
    "rfe.fit(X_train, y_train)\n"
   ]
  },
  {
   "cell_type": "code",
   "execution_count": 51,
   "id": "a2930cd6",
   "metadata": {},
   "outputs": [
    {
     "data": {
      "text/html": [
       "<div>\n",
       "<style scoped>\n",
       "    .dataframe tbody tr th:only-of-type {\n",
       "        vertical-align: middle;\n",
       "    }\n",
       "\n",
       "    .dataframe tbody tr th {\n",
       "        vertical-align: top;\n",
       "    }\n",
       "\n",
       "    .dataframe thead th {\n",
       "        text-align: right;\n",
       "    }\n",
       "</style>\n",
       "<table border=\"1\" class=\"dataframe\">\n",
       "  <thead>\n",
       "    <tr style=\"text-align: right;\">\n",
       "      <th></th>\n",
       "      <th>rfe_ranks</th>\n",
       "    </tr>\n",
       "  </thead>\n",
       "  <tbody>\n",
       "    <tr>\n",
       "      <th>total_bill</th>\n",
       "      <td>3</td>\n",
       "    </tr>\n",
       "    <tr>\n",
       "      <th>sex</th>\n",
       "      <td>2</td>\n",
       "    </tr>\n",
       "    <tr>\n",
       "      <th>smoker</th>\n",
       "      <td>4</td>\n",
       "    </tr>\n",
       "    <tr>\n",
       "      <th>day</th>\n",
       "      <td>1</td>\n",
       "    </tr>\n",
       "    <tr>\n",
       "      <th>time</th>\n",
       "      <td>5</td>\n",
       "    </tr>\n",
       "    <tr>\n",
       "      <th>size</th>\n",
       "      <td>1</td>\n",
       "    </tr>\n",
       "    <tr>\n",
       "      <th>price_per_person</th>\n",
       "      <td>6</td>\n",
       "    </tr>\n",
       "  </tbody>\n",
       "</table>\n",
       "</div>"
      ],
      "text/plain": [
       "                  rfe_ranks\n",
       "total_bill                3\n",
       "sex                       2\n",
       "smoker                    4\n",
       "day                       1\n",
       "time                      5\n",
       "size                      1\n",
       "price_per_person          6"
      ]
     },
     "execution_count": 51,
     "metadata": {},
     "output_type": "execute_result"
    }
   ],
   "source": [
    "# Rank the RFE features\n",
    "\n",
    "pd.DataFrame({'rfe_ranks': rfe.ranking_}, index = X_train.columns)"
   ]
  },
  {
   "cell_type": "code",
   "execution_count": 52,
   "id": "f400fc8a",
   "metadata": {},
   "outputs": [
    {
     "data": {
      "text/plain": [
       "Index(['day', 'size'], dtype='object')"
      ]
     },
     "execution_count": 52,
     "metadata": {},
     "output_type": "execute_result"
    }
   ],
   "source": [
    "# Get FRE recommendation for best feature\n",
    "\n",
    "X_train.columns[rfe.get_support()]"
   ]
  },
  {
   "cell_type": "code",
   "execution_count": 53,
   "id": "2982275b",
   "metadata": {},
   "outputs": [
    {
     "data": {
      "text/html": [
       "<div>\n",
       "<style scoped>\n",
       "    .dataframe tbody tr th:only-of-type {\n",
       "        vertical-align: middle;\n",
       "    }\n",
       "\n",
       "    .dataframe tbody tr th {\n",
       "        vertical-align: top;\n",
       "    }\n",
       "\n",
       "    .dataframe thead th {\n",
       "        text-align: right;\n",
       "    }\n",
       "</style>\n",
       "<table border=\"1\" class=\"dataframe\">\n",
       "  <thead>\n",
       "    <tr style=\"text-align: right;\">\n",
       "      <th></th>\n",
       "      <th>day</th>\n",
       "      <th>size</th>\n",
       "    </tr>\n",
       "  </thead>\n",
       "  <tbody>\n",
       "    <tr>\n",
       "      <th>149</th>\n",
       "      <td>4.0</td>\n",
       "      <td>2.0</td>\n",
       "    </tr>\n",
       "    <tr>\n",
       "      <th>214</th>\n",
       "      <td>6.0</td>\n",
       "      <td>2.0</td>\n",
       "    </tr>\n",
       "    <tr>\n",
       "      <th>15</th>\n",
       "      <td>7.0</td>\n",
       "      <td>2.0</td>\n",
       "    </tr>\n",
       "    <tr>\n",
       "      <th>97</th>\n",
       "      <td>5.0</td>\n",
       "      <td>2.0</td>\n",
       "    </tr>\n",
       "    <tr>\n",
       "      <th>124</th>\n",
       "      <td>4.0</td>\n",
       "      <td>2.0</td>\n",
       "    </tr>\n",
       "  </tbody>\n",
       "</table>\n",
       "</div>"
      ],
      "text/plain": [
       "     day  size\n",
       "149  4.0   2.0\n",
       "214  6.0   2.0\n",
       "15   7.0   2.0\n",
       "97   5.0   2.0\n",
       "124  4.0   2.0"
      ]
     },
     "execution_count": 53,
     "metadata": {},
     "output_type": "execute_result"
    }
   ],
   "source": [
    "# RFE Ranking\n",
    "X_train_transformed = pd.DataFrame(rfe.transform(X_train),index = X_train.index,\n",
    "                                   columns = X_train.columns[rfe.support_])\n",
    "\n",
    "X_train_transformed.head()\n"
   ]
  },
  {
   "cell_type": "markdown",
   "id": "c2425d66",
   "metadata": {},
   "source": [
    "### (e). Why do you think select k best and recursive feature elimination might give different answers for the top features? Does this change as you change the number of features your are selecting?"
   ]
  },
  {
   "cell_type": "markdown",
   "id": "b8b17ad0",
   "metadata": {},
   "source": [
    ">- ### NOTE: If your dataset is large (> 1GB; df.info()) use select k best instead\n",
    "\n",
    "\n",
    "\n"
   ]
  },
  {
   "cell_type": "markdown",
   "id": "84bd5ad8",
   "metadata": {},
   "source": [
    "### (2). Write a function named select_kbest that takes in the predictors (X), the target (y), and the number of features to select (k) and returns the names of the top k selected features based on the SelectKBest class. Test your function with the tips dataset. You should see the same results as when you did the process manually."
   ]
  },
  {
   "cell_type": "code",
   "execution_count": 54,
   "id": "ae73bb2e",
   "metadata": {},
   "outputs": [],
   "source": [
    "X_train = train[['total_bill', 'sex','smoker', 'day', 'time', 'size', 'price_per_person']]\n",
    "y_train = train.tip\n",
    "\n",
    "X_validate = validate[['total_bill', 'sex','smoker', 'day', 'time', 'size', 'price_per_person']]\n",
    "y_validate = validate.tip\n",
    "\n",
    "X_test = test[['total_bill', 'sex','smoker', 'day', 'time', 'size', 'price_per_person']]\n",
    "y_test = test.tip"
   ]
  },
  {
   "cell_type": "markdown",
   "id": "b652e024",
   "metadata": {},
   "source": [
    "### Split the swiss data"
   ]
  },
  {
   "cell_type": "code",
   "execution_count": 55,
   "id": "e2156eb4",
   "metadata": {},
   "outputs": [
    {
     "name": "stdout",
     "output_type": "stream",
     "text": [
      "(135, 8) (59, 8) (49, 8)\n"
     ]
    }
   ],
   "source": [
    "train, validate, test = train_split(tips)\n",
    "print(train.shape, validate.shape, test.shape)"
   ]
  },
  {
   "cell_type": "code",
   "execution_count": 71,
   "id": "547ea0b1",
   "metadata": {},
   "outputs": [
    {
     "name": "stdout",
     "output_type": "stream",
     "text": [
      "Enter count of SelectKBest features to return: 3\n"
     ]
    },
    {
     "data": {
      "text/plain": [
       "Index(['total_bill', 'day', 'size'], dtype='object')"
      ]
     },
     "execution_count": 71,
     "metadata": {},
     "output_type": "execute_result"
    }
   ],
   "source": [
    "# Create the train sets\n",
    "\n",
    "X_train = train.drop(columns = 'tip')\n",
    "y_train = train.tip\n",
    "\n",
    "X_validate = validate.drop(columns = 'tip')\n",
    "y_validate = validate.tip\n",
    "\n",
    "X_test = test.drop(columns = 'tip')\n",
    "y_test = test.tip\n",
    "\n",
    "# Cols: Predicted and tatget\n",
    "\n",
    "# predictors = [[X_train]\n",
    "# target = [[y_train[0]]\n",
    "\n",
    "select_kbest(X_train, y_train, 0)"
   ]
  },
  {
   "cell_type": "markdown",
   "id": "ee30c630",
   "metadata": {},
   "source": [
    "### (3). Write a function named rfe that takes in the predictors, the target, and the number of features to select. It should return the top k features based on the RFE class. Test your function with the tips dataset. You should see the same results as when you did the process manually."
   ]
  },
  {
   "cell_type": "code",
   "execution_count": 58,
   "id": "80a2ac37",
   "metadata": {},
   "outputs": [],
   "source": [
    "# Using the tips datasets in # 2\n",
    "\n",
    "X_test = test.drop(columns = 'tip')\n",
    "y_test = test.tip"
   ]
  },
  {
   "cell_type": "code",
   "execution_count": 59,
   "id": "39dedccb",
   "metadata": {},
   "outputs": [],
   "source": [
    "def rfe(predictors, target, num_features):\n",
    "    '''\n",
    "        This function takes in predictors, and the target variables and the number of \n",
    "        features desired and returns the names of the top Recussion Feature Elimination(RFE) features \n",
    "        based on the SelectKBest class. \n",
    "    '''\n",
    "    model = LinearRegression()\n",
    "    \n",
    "    num_features = int(input('Enter count of RFE features to return: '))\n",
    "    \n",
    "    rfe = RFE(model, n_features_to_select = num_features)\n",
    "    \n",
    "    rfe.fit(predictors, target)\n",
    "    \n",
    "    result = rfe.get_support()\n",
    "    \n",
    "    return predictors.columns[result]"
   ]
  },
  {
   "cell_type": "code",
   "execution_count": 60,
   "id": "a81113ce",
   "metadata": {},
   "outputs": [
    {
     "name": "stdout",
     "output_type": "stream",
     "text": [
      "Enter count of RFE features to return: 3\n"
     ]
    },
    {
     "data": {
      "text/plain": [
       "Index(['sex', 'day', 'size'], dtype='object')"
      ]
     },
     "execution_count": 60,
     "metadata": {},
     "output_type": "execute_result"
    }
   ],
   "source": [
    "# Call the RFE feature selection model\n",
    "\n",
    "rfe(X_train, y_train, 2)"
   ]
  },
  {
   "cell_type": "markdown",
   "id": "429dbeaf",
   "metadata": {},
   "source": [
    "### (4). Load the swiss dataset and use all the other features to predict Fertility. Find the top 3 features using both select k best and recursive feature elimination (use the functions you just built to help you out)."
   ]
  },
  {
   "cell_type": "code",
   "execution_count": 61,
   "id": "4a7173a0",
   "metadata": {},
   "outputs": [
    {
     "data": {
      "text/html": [
       "<div>\n",
       "<style scoped>\n",
       "    .dataframe tbody tr th:only-of-type {\n",
       "        vertical-align: middle;\n",
       "    }\n",
       "\n",
       "    .dataframe tbody tr th {\n",
       "        vertical-align: top;\n",
       "    }\n",
       "\n",
       "    .dataframe thead th {\n",
       "        text-align: right;\n",
       "    }\n",
       "</style>\n",
       "<table border=\"1\" class=\"dataframe\">\n",
       "  <thead>\n",
       "    <tr style=\"text-align: right;\">\n",
       "      <th></th>\n",
       "      <th>Fertility</th>\n",
       "      <th>Agriculture</th>\n",
       "      <th>Examination</th>\n",
       "      <th>Education</th>\n",
       "      <th>Catholic</th>\n",
       "      <th>Infant.Mortality</th>\n",
       "    </tr>\n",
       "  </thead>\n",
       "  <tbody>\n",
       "    <tr>\n",
       "      <th>Courtelary</th>\n",
       "      <td>80.2</td>\n",
       "      <td>17.0</td>\n",
       "      <td>15</td>\n",
       "      <td>12</td>\n",
       "      <td>9.96</td>\n",
       "      <td>22.2</td>\n",
       "    </tr>\n",
       "    <tr>\n",
       "      <th>Delemont</th>\n",
       "      <td>83.1</td>\n",
       "      <td>45.1</td>\n",
       "      <td>6</td>\n",
       "      <td>9</td>\n",
       "      <td>84.84</td>\n",
       "      <td>22.2</td>\n",
       "    </tr>\n",
       "    <tr>\n",
       "      <th>Franches-Mnt</th>\n",
       "      <td>92.5</td>\n",
       "      <td>39.7</td>\n",
       "      <td>5</td>\n",
       "      <td>5</td>\n",
       "      <td>93.40</td>\n",
       "      <td>20.2</td>\n",
       "    </tr>\n",
       "    <tr>\n",
       "      <th>Moutier</th>\n",
       "      <td>85.8</td>\n",
       "      <td>36.5</td>\n",
       "      <td>12</td>\n",
       "      <td>7</td>\n",
       "      <td>33.77</td>\n",
       "      <td>20.3</td>\n",
       "    </tr>\n",
       "    <tr>\n",
       "      <th>Neuveville</th>\n",
       "      <td>76.9</td>\n",
       "      <td>43.5</td>\n",
       "      <td>17</td>\n",
       "      <td>15</td>\n",
       "      <td>5.16</td>\n",
       "      <td>20.6</td>\n",
       "    </tr>\n",
       "  </tbody>\n",
       "</table>\n",
       "</div>"
      ],
      "text/plain": [
       "              Fertility  Agriculture  Examination  Education  Catholic  \\\n",
       "Courtelary         80.2         17.0           15         12      9.96   \n",
       "Delemont           83.1         45.1            6          9     84.84   \n",
       "Franches-Mnt       92.5         39.7            5          5     93.40   \n",
       "Moutier            85.8         36.5           12          7     33.77   \n",
       "Neuveville         76.9         43.5           17         15      5.16   \n",
       "\n",
       "              Infant.Mortality  \n",
       "Courtelary                22.2  \n",
       "Delemont                  22.2  \n",
       "Franches-Mnt              20.2  \n",
       "Moutier                   20.3  \n",
       "Neuveville                20.6  "
      ]
     },
     "execution_count": 61,
     "metadata": {},
     "output_type": "execute_result"
    }
   ],
   "source": [
    "# Load the swiss dataset\n",
    "\n",
    "swiss = get_swiss_data()\n",
    "swiss.head()"
   ]
  },
  {
   "cell_type": "markdown",
   "id": "3aa58962",
   "metadata": {},
   "source": [
    "## Split the swiss data "
   ]
  },
  {
   "cell_type": "code",
   "execution_count": 73,
   "id": "eae8c956",
   "metadata": {},
   "outputs": [
    {
     "data": {
      "text/plain": [
       "((25, 6), (12, 6), (10, 6))"
      ]
     },
     "execution_count": 73,
     "metadata": {},
     "output_type": "execute_result"
    }
   ],
   "source": [
    "swiss_train, swiss_val, swiss_test = train_split(swiss)\n",
    "\n",
    "swiss_train.shape, swiss_val.shape, swiss_test.shape"
   ]
  },
  {
   "cell_type": "code",
   "execution_count": 77,
   "id": "b897c566",
   "metadata": {},
   "outputs": [],
   "source": [
    "# Create the train, validate and test sets\n",
    "\n",
    "X_train = swiss_train.drop(columns = 'Fertility')\n",
    "y_train = swiss_train.Fertility\n",
    "\n",
    "X_validate = swiss_val.drop(columns = 'Fertility')\n",
    "y_validate = swiss_val.Fertility\n",
    "\n",
    "X_test = swiss_test.drop(columns = 'Fertility')\n",
    "y_test = swiss_test.Fertility"
   ]
  },
  {
   "cell_type": "markdown",
   "id": "87c682b1",
   "metadata": {},
   "source": [
    "### Using the SelectKBest  on Swiss Data\n"
   ]
  },
  {
   "cell_type": "code",
   "execution_count": 81,
   "id": "9d13075d",
   "metadata": {},
   "outputs": [
    {
     "name": "stdout",
     "output_type": "stream",
     "text": [
      "Enter count of SelectKBest features to return: 2\n"
     ]
    },
    {
     "data": {
      "text/plain": [
       "Index(['Examination', 'Education'], dtype='object')"
      ]
     },
     "execution_count": 81,
     "metadata": {},
     "output_type": "execute_result"
    }
   ],
   "source": [
    "# Using the SelectKBest \n",
    "\n",
    "select_kbest(X_train, y_train, 0)"
   ]
  },
  {
   "cell_type": "markdown",
   "id": "92fce68b",
   "metadata": {},
   "source": [
    "### Using the RFE on Swiss Data"
   ]
  },
  {
   "cell_type": "code",
   "execution_count": 80,
   "id": "9c764ee6",
   "metadata": {},
   "outputs": [
    {
     "name": "stdout",
     "output_type": "stream",
     "text": [
      "Enter count of RFE features to return: 2\n"
     ]
    },
    {
     "data": {
      "text/plain": [
       "Index(['Examination', 'Infant.Mortality'], dtype='object')"
      ]
     },
     "execution_count": 80,
     "metadata": {},
     "output_type": "execute_result"
    }
   ],
   "source": [
    "rfe(X_train, y_train, 0)"
   ]
  },
  {
   "cell_type": "code",
   "execution_count": null,
   "id": "7982031a",
   "metadata": {},
   "outputs": [],
   "source": []
  }
 ],
 "metadata": {
  "kernelspec": {
   "display_name": "Python 3 (ipykernel)",
   "language": "python",
   "name": "python3"
  },
  "language_info": {
   "codemirror_mode": {
    "name": "ipython",
    "version": 3
   },
   "file_extension": ".py",
   "mimetype": "text/x-python",
   "name": "python",
   "nbconvert_exporter": "python",
   "pygments_lexer": "ipython3",
   "version": "3.9.7"
  }
 },
 "nbformat": 4,
 "nbformat_minor": 5
}
