{
 "cells": [
  {
   "cell_type": "code",
   "execution_count": 60,
   "id": "4f95fefb-13eb-4017-a1ba-ce979d1e0da0",
   "metadata": {},
   "outputs": [],
   "source": [
    "import pandas as pd\n",
    "import matplotlib.pyplot as plt\n",
    "\n",
    "\n",
    "df = pd.read_csv('https://raw.githubusercontent.com/zgulde/tidytuesday/master/data/2022/2022-02-01/breed_traits.csv')"
   ]
  },
  {
   "cell_type": "markdown",
   "id": "7820cfed",
   "metadata": {},
   "source": [
    "This dataset contains information on different dog breeds. Answer the following questions:\n",
    "\n",
    "- How many breeds have an energy level of 5? `35`\n",
    "- How many different coat types are there? `10`\n",
    "- What is the average drooling level of breeds with a long coat length? `1.483`\n",
    "- What is the barking level of Anatolian Shepherd Dogs? `3`\n",
    "- How many breeds have a smooth coat type, a short coat length, and a playfulness level of 3? `27`\n",
    "- What percentage of breeds fall into each value of adaptability level? Make a visualization like the one below showing this\n"
   ]
  },
  {
   "cell_type": "code",
   "execution_count": 61,
   "id": "68ef9ddd",
   "metadata": {},
   "outputs": [
    {
     "data": {
      "text/html": [
       "<div>\n",
       "<style scoped>\n",
       "    .dataframe tbody tr th:only-of-type {\n",
       "        vertical-align: middle;\n",
       "    }\n",
       "\n",
       "    .dataframe tbody tr th {\n",
       "        vertical-align: top;\n",
       "    }\n",
       "\n",
       "    .dataframe thead th {\n",
       "        text-align: right;\n",
       "    }\n",
       "</style>\n",
       "<table border=\"1\" class=\"dataframe\">\n",
       "  <thead>\n",
       "    <tr style=\"text-align: right;\">\n",
       "      <th></th>\n",
       "      <th>Breed</th>\n",
       "      <th>Affectionate With Family</th>\n",
       "      <th>Good With Young Children</th>\n",
       "      <th>Good With Other Dogs</th>\n",
       "      <th>Shedding Level</th>\n",
       "      <th>Coat Grooming Frequency</th>\n",
       "      <th>Drooling Level</th>\n",
       "      <th>Coat Type</th>\n",
       "      <th>Coat Length</th>\n",
       "      <th>Openness To Strangers</th>\n",
       "      <th>Playfulness Level</th>\n",
       "      <th>Watchdog/Protective Nature</th>\n",
       "      <th>Adaptability Level</th>\n",
       "      <th>Trainability Level</th>\n",
       "      <th>Energy Level</th>\n",
       "      <th>Barking Level</th>\n",
       "      <th>Mental Stimulation Needs</th>\n",
       "    </tr>\n",
       "  </thead>\n",
       "  <tbody>\n",
       "    <tr>\n",
       "      <th>0</th>\n",
       "      <td>Retrievers (Labrador)</td>\n",
       "      <td>5</td>\n",
       "      <td>5</td>\n",
       "      <td>5</td>\n",
       "      <td>4</td>\n",
       "      <td>2</td>\n",
       "      <td>2</td>\n",
       "      <td>Double</td>\n",
       "      <td>Short</td>\n",
       "      <td>5</td>\n",
       "      <td>5</td>\n",
       "      <td>3</td>\n",
       "      <td>5</td>\n",
       "      <td>5</td>\n",
       "      <td>5</td>\n",
       "      <td>3</td>\n",
       "      <td>4</td>\n",
       "    </tr>\n",
       "    <tr>\n",
       "      <th>1</th>\n",
       "      <td>French Bulldogs</td>\n",
       "      <td>5</td>\n",
       "      <td>5</td>\n",
       "      <td>4</td>\n",
       "      <td>3</td>\n",
       "      <td>1</td>\n",
       "      <td>3</td>\n",
       "      <td>Smooth</td>\n",
       "      <td>Short</td>\n",
       "      <td>5</td>\n",
       "      <td>5</td>\n",
       "      <td>3</td>\n",
       "      <td>5</td>\n",
       "      <td>4</td>\n",
       "      <td>3</td>\n",
       "      <td>1</td>\n",
       "      <td>3</td>\n",
       "    </tr>\n",
       "    <tr>\n",
       "      <th>2</th>\n",
       "      <td>German Shepherd Dogs</td>\n",
       "      <td>5</td>\n",
       "      <td>5</td>\n",
       "      <td>3</td>\n",
       "      <td>4</td>\n",
       "      <td>2</td>\n",
       "      <td>2</td>\n",
       "      <td>Double</td>\n",
       "      <td>Medium</td>\n",
       "      <td>3</td>\n",
       "      <td>4</td>\n",
       "      <td>5</td>\n",
       "      <td>5</td>\n",
       "      <td>5</td>\n",
       "      <td>5</td>\n",
       "      <td>3</td>\n",
       "      <td>5</td>\n",
       "    </tr>\n",
       "    <tr>\n",
       "      <th>3</th>\n",
       "      <td>Retrievers (Golden)</td>\n",
       "      <td>5</td>\n",
       "      <td>5</td>\n",
       "      <td>5</td>\n",
       "      <td>4</td>\n",
       "      <td>2</td>\n",
       "      <td>2</td>\n",
       "      <td>Double</td>\n",
       "      <td>Medium</td>\n",
       "      <td>5</td>\n",
       "      <td>4</td>\n",
       "      <td>3</td>\n",
       "      <td>5</td>\n",
       "      <td>5</td>\n",
       "      <td>3</td>\n",
       "      <td>1</td>\n",
       "      <td>4</td>\n",
       "    </tr>\n",
       "    <tr>\n",
       "      <th>4</th>\n",
       "      <td>Bulldogs</td>\n",
       "      <td>4</td>\n",
       "      <td>3</td>\n",
       "      <td>3</td>\n",
       "      <td>3</td>\n",
       "      <td>3</td>\n",
       "      <td>3</td>\n",
       "      <td>Smooth</td>\n",
       "      <td>Short</td>\n",
       "      <td>4</td>\n",
       "      <td>4</td>\n",
       "      <td>3</td>\n",
       "      <td>3</td>\n",
       "      <td>4</td>\n",
       "      <td>3</td>\n",
       "      <td>2</td>\n",
       "      <td>3</td>\n",
       "    </tr>\n",
       "    <tr>\n",
       "      <th>...</th>\n",
       "      <td>...</td>\n",
       "      <td>...</td>\n",
       "      <td>...</td>\n",
       "      <td>...</td>\n",
       "      <td>...</td>\n",
       "      <td>...</td>\n",
       "      <td>...</td>\n",
       "      <td>...</td>\n",
       "      <td>...</td>\n",
       "      <td>...</td>\n",
       "      <td>...</td>\n",
       "      <td>...</td>\n",
       "      <td>...</td>\n",
       "      <td>...</td>\n",
       "      <td>...</td>\n",
       "      <td>...</td>\n",
       "      <td>...</td>\n",
       "    </tr>\n",
       "    <tr>\n",
       "      <th>190</th>\n",
       "      <td>Cesky Terriers</td>\n",
       "      <td>4</td>\n",
       "      <td>5</td>\n",
       "      <td>3</td>\n",
       "      <td>2</td>\n",
       "      <td>2</td>\n",
       "      <td>1</td>\n",
       "      <td>Wavy</td>\n",
       "      <td>Medium</td>\n",
       "      <td>4</td>\n",
       "      <td>3</td>\n",
       "      <td>3</td>\n",
       "      <td>4</td>\n",
       "      <td>3</td>\n",
       "      <td>3</td>\n",
       "      <td>3</td>\n",
       "      <td>3</td>\n",
       "    </tr>\n",
       "    <tr>\n",
       "      <th>191</th>\n",
       "      <td>American Foxhounds</td>\n",
       "      <td>3</td>\n",
       "      <td>5</td>\n",
       "      <td>5</td>\n",
       "      <td>3</td>\n",
       "      <td>1</td>\n",
       "      <td>1</td>\n",
       "      <td>Smooth</td>\n",
       "      <td>Short</td>\n",
       "      <td>3</td>\n",
       "      <td>3</td>\n",
       "      <td>3</td>\n",
       "      <td>3</td>\n",
       "      <td>3</td>\n",
       "      <td>4</td>\n",
       "      <td>5</td>\n",
       "      <td>3</td>\n",
       "    </tr>\n",
       "    <tr>\n",
       "      <th>192</th>\n",
       "      <td>Azawakhs</td>\n",
       "      <td>3</td>\n",
       "      <td>3</td>\n",
       "      <td>3</td>\n",
       "      <td>2</td>\n",
       "      <td>2</td>\n",
       "      <td>1</td>\n",
       "      <td>Smooth</td>\n",
       "      <td>Short</td>\n",
       "      <td>1</td>\n",
       "      <td>3</td>\n",
       "      <td>3</td>\n",
       "      <td>3</td>\n",
       "      <td>2</td>\n",
       "      <td>3</td>\n",
       "      <td>1</td>\n",
       "      <td>3</td>\n",
       "    </tr>\n",
       "    <tr>\n",
       "      <th>193</th>\n",
       "      <td>English Foxhounds</td>\n",
       "      <td>5</td>\n",
       "      <td>5</td>\n",
       "      <td>5</td>\n",
       "      <td>3</td>\n",
       "      <td>1</td>\n",
       "      <td>2</td>\n",
       "      <td>Double</td>\n",
       "      <td>Short</td>\n",
       "      <td>4</td>\n",
       "      <td>4</td>\n",
       "      <td>3</td>\n",
       "      <td>4</td>\n",
       "      <td>4</td>\n",
       "      <td>4</td>\n",
       "      <td>5</td>\n",
       "      <td>4</td>\n",
       "    </tr>\n",
       "    <tr>\n",
       "      <th>194</th>\n",
       "      <td>Norwegian Lundehunds</td>\n",
       "      <td>3</td>\n",
       "      <td>3</td>\n",
       "      <td>3</td>\n",
       "      <td>3</td>\n",
       "      <td>2</td>\n",
       "      <td>1</td>\n",
       "      <td>Double</td>\n",
       "      <td>Short</td>\n",
       "      <td>3</td>\n",
       "      <td>3</td>\n",
       "      <td>3</td>\n",
       "      <td>3</td>\n",
       "      <td>3</td>\n",
       "      <td>3</td>\n",
       "      <td>3</td>\n",
       "      <td>3</td>\n",
       "    </tr>\n",
       "  </tbody>\n",
       "</table>\n",
       "<p>195 rows × 17 columns</p>\n",
       "</div>"
      ],
      "text/plain": [
       "                     Breed  Affectionate With Family  \\\n",
       "0    Retrievers (Labrador)                         5   \n",
       "1          French Bulldogs                         5   \n",
       "2     German Shepherd Dogs                         5   \n",
       "3      Retrievers (Golden)                         5   \n",
       "4                 Bulldogs                         4   \n",
       "..                     ...                       ...   \n",
       "190         Cesky Terriers                         4   \n",
       "191     American Foxhounds                         3   \n",
       "192               Azawakhs                         3   \n",
       "193      English Foxhounds                         5   \n",
       "194   Norwegian Lundehunds                         3   \n",
       "\n",
       "     Good With Young Children  Good With Other Dogs  Shedding Level  \\\n",
       "0                           5                     5               4   \n",
       "1                           5                     4               3   \n",
       "2                           5                     3               4   \n",
       "3                           5                     5               4   \n",
       "4                           3                     3               3   \n",
       "..                        ...                   ...             ...   \n",
       "190                         5                     3               2   \n",
       "191                         5                     5               3   \n",
       "192                         3                     3               2   \n",
       "193                         5                     5               3   \n",
       "194                         3                     3               3   \n",
       "\n",
       "     Coat Grooming Frequency  Drooling Level Coat Type Coat Length  \\\n",
       "0                          2               2    Double       Short   \n",
       "1                          1               3    Smooth       Short   \n",
       "2                          2               2    Double      Medium   \n",
       "3                          2               2    Double      Medium   \n",
       "4                          3               3    Smooth       Short   \n",
       "..                       ...             ...       ...         ...   \n",
       "190                        2               1      Wavy      Medium   \n",
       "191                        1               1    Smooth       Short   \n",
       "192                        2               1    Smooth       Short   \n",
       "193                        1               2    Double       Short   \n",
       "194                        2               1    Double       Short   \n",
       "\n",
       "     Openness To Strangers  Playfulness Level  Watchdog/Protective Nature  \\\n",
       "0                        5                  5                           3   \n",
       "1                        5                  5                           3   \n",
       "2                        3                  4                           5   \n",
       "3                        5                  4                           3   \n",
       "4                        4                  4                           3   \n",
       "..                     ...                ...                         ...   \n",
       "190                      4                  3                           3   \n",
       "191                      3                  3                           3   \n",
       "192                      1                  3                           3   \n",
       "193                      4                  4                           3   \n",
       "194                      3                  3                           3   \n",
       "\n",
       "     Adaptability Level  Trainability Level  Energy Level  Barking Level  \\\n",
       "0                     5                   5             5              3   \n",
       "1                     5                   4             3              1   \n",
       "2                     5                   5             5              3   \n",
       "3                     5                   5             3              1   \n",
       "4                     3                   4             3              2   \n",
       "..                  ...                 ...           ...            ...   \n",
       "190                   4                   3             3              3   \n",
       "191                   3                   3             4              5   \n",
       "192                   3                   2             3              1   \n",
       "193                   4                   4             4              5   \n",
       "194                   3                   3             3              3   \n",
       "\n",
       "     Mental Stimulation Needs  \n",
       "0                           4  \n",
       "1                           3  \n",
       "2                           5  \n",
       "3                           4  \n",
       "4                           3  \n",
       "..                        ...  \n",
       "190                         3  \n",
       "191                         3  \n",
       "192                         3  \n",
       "193                         4  \n",
       "194                         3  \n",
       "\n",
       "[195 rows x 17 columns]"
      ]
     },
     "execution_count": 61,
     "metadata": {},
     "output_type": "execute_result"
    }
   ],
   "source": [
    "df"
   ]
  },
  {
   "cell_type": "code",
   "execution_count": 62,
   "id": "937d0a3d",
   "metadata": {},
   "outputs": [],
   "source": [
    "df = df.rename(columns = {'Energy Level':'energy_level', 'Coat Type':'coat_type', \n",
    "                          'Drooling Level':'drool_level', 'Coat Length':'coat_length',\n",
    "                          'Barking Level':'bark_level', 'Coat Type':'coat_type', \n",
    "                          'Playfulness Level':'play_level', 'Adaptability Level':'adapt_level'\n",
    "                         \n",
    "                         })"
   ]
  },
  {
   "cell_type": "code",
   "execution_count": 63,
   "id": "d3aeb178",
   "metadata": {},
   "outputs": [
    {
     "data": {
      "text/plain": [
       "35"
      ]
     },
     "execution_count": 63,
     "metadata": {},
     "output_type": "execute_result"
    }
   ],
   "source": [
    "# - How many breeds have an energy level of 5? `35`\n",
    "\n",
    "df.Breed[df.energy_level == 5].count()"
   ]
  },
  {
   "cell_type": "code",
   "execution_count": 64,
   "id": "a7cee673",
   "metadata": {},
   "outputs": [
    {
     "data": {
      "text/plain": [
       "10"
      ]
     },
     "execution_count": 64,
     "metadata": {},
     "output_type": "execute_result"
    }
   ],
   "source": [
    "# - How many different coat types are there? `10`\n",
    "df.coat_type.nunique()\n"
   ]
  },
  {
   "cell_type": "code",
   "execution_count": 65,
   "id": "cf44f14d",
   "metadata": {},
   "outputs": [
    {
     "data": {
      "text/plain": [
       "1.4827586206896552"
      ]
     },
     "execution_count": 65,
     "metadata": {},
     "output_type": "execute_result"
    }
   ],
   "source": [
    "# - What is the average drooling level of breeds with a long coat length? `1.483`\n",
    "\n",
    "df.drool_level[df.coat_length == 'Long'].mean()"
   ]
  },
  {
   "cell_type": "code",
   "execution_count": 66,
   "id": "21381b78",
   "metadata": {},
   "outputs": [
    {
     "data": {
      "text/plain": [
       "84    3\n",
       "Name: bark_level, dtype: int64"
      ]
     },
     "execution_count": 66,
     "metadata": {},
     "output_type": "execute_result"
    }
   ],
   "source": [
    "# - What is the barking level of Anatolian Shepherd Dogs? `3`\n",
    "\n",
    "\n",
    "df.bark_level[df.Breed == 'Anatolian\\xa0Shepherd\\xa0Dogs']"
   ]
  },
  {
   "cell_type": "code",
   "execution_count": 67,
   "id": "4e0cd227",
   "metadata": {},
   "outputs": [
    {
     "data": {
      "text/plain": [
       "27"
      ]
     },
     "execution_count": 67,
     "metadata": {},
     "output_type": "execute_result"
    }
   ],
   "source": [
    "# - How many breeds have a smooth coat type, a short coat length, and a playfulness level of 3? `27`\n",
    "\n",
    "df.Breed[(df.coat_type == 'Smooth') & (df.coat_length == 'Short') & (df.play_level == 3)].count()\n"
   ]
  },
  {
   "cell_type": "code",
   "execution_count": 69,
   "id": "9a5f3ccc",
   "metadata": {},
   "outputs": [
    {
     "data": {
      "text/plain": [
       "4"
      ]
     },
     "execution_count": 69,
     "metadata": {},
     "output_type": "execute_result"
    }
   ],
   "source": [
    "# - What percentage of breeds fall into each value of adaptability level? Make a visualization like the one \n",
    "# below showing this\n",
    "\n",
    "\n",
    "df.adapt_level.nunique()"
   ]
  },
  {
   "cell_type": "code",
   "execution_count": 54,
   "id": "95e7fe74",
   "metadata": {},
   "outputs": [
    {
     "data": {
      "text/plain": [
       "<AxesSubplot:>"
      ]
     },
     "execution_count": 54,
     "metadata": {},
     "output_type": "execute_result"
    },
    {
     "data": {
      "image/png": "[encoded data removed]",
      "text/plain": [
       "<Figure size 432x288 with 1 Axes>"
      ]
     },
     "metadata": {
      "needs_background": "light"
     },
     "output_type": "display_data"
    }
   ],
   "source": [
    "df.adapt_level.hist()"
   ]
  },
  {
   "cell_type": "code",
   "execution_count": null,
   "id": "765f4cbb",
   "metadata": {},
   "outputs": [],
   "source": []
  },
  {
   "cell_type": "code",
   "execution_count": null,
   "id": "4a2741f9",
   "metadata": {},
   "outputs": [],
   "source": []
  },
  {
   "cell_type": "code",
   "execution_count": null,
   "id": "41968740",
   "metadata": {},
   "outputs": [],
   "source": []
  },
  {
   "cell_type": "markdown",
   "id": "5daad97e-3690-4d06-a295-2de4eb3a6e28",
   "metadata": {},
   "source": []
  },
  {
   "attachments": {
    "805baeb8-a81a-4f98-8aa5-7769c38791fb.png": {
     "image/png": "[encoded data removed]"
    }
   },
   "cell_type": "markdown",
   "id": "49a426a3-aba0-44de-8dff-0c05e36e6df9",
   "metadata": {},
   "source": [
    "![image.png](attachment:805baeb8-a81a-4f98-8aa5-7769c38791fb.png)"
   ]
  }
 ],
 "metadata": {
  "kernelspec": {
   "display_name": "Python 3 (ipykernel)",
   "language": "python",
   "name": "python3"
  },
  "language_info": {
   "codemirror_mode": {
    "name": "ipython",
    "version": 3
   },
   "file_extension": ".py",
   "mimetype": "text/x-python",
   "name": "python",
   "nbconvert_exporter": "python",
   "pygments_lexer": "ipython3",
   "version": "3.9.7"
  }
 },
 "nbformat": 4,
 "nbformat_minor": 5
}
