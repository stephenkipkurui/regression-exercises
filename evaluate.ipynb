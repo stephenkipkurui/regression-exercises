{
 "cells": [
  {
   "cell_type": "markdown",
   "id": "20e9c191",
   "metadata": {},
   "source": [
    "# Evaluation Regression Model Exercises"
   ]
  },
  {
   "cell_type": "markdown",
   "id": "da7afdc7",
   "metadata": {},
   "source": [
    "### Import the required libraries (some libraries are imported in-line)"
   ]
  },
  {
   "cell_type": "code",
   "execution_count": 30,
   "id": "77c8e0e8",
   "metadata": {},
   "outputs": [],
   "source": [
    "from sklearn.metrics import mean_squared_error, r2_score, explained_variance_score\n",
    "from sklearn.feature_selection import f_regression\n",
    "from math import sqrt\n",
    "import pandas as pd\n",
    "import matplotlib.pyplot as plt\n",
    "import seaborn as sns\n",
    "import numpy as np\n",
    "\n",
    "import viz\n",
    "\n",
    "from evaluate import get_tips_data, prep_tips, visualize_tips, visual_tip, get_clean_mpg_data\n",
    "\n",
    "from sklearn.linear_model import LinearRegression\n",
    "\n",
    "import warnings\n",
    "warnings.filterwarnings('ignore')\n"
   ]
  },
  {
   "cell_type": "markdown",
   "id": "e6cfe487",
   "metadata": {},
   "source": [
    "## Perform the initial examination of the data"
   ]
  },
  {
   "cell_type": "code",
   "execution_count": 3,
   "id": "a33a600c",
   "metadata": {},
   "outputs": [
    {
     "data": {
      "text/html": [
       "<div>\n",
       "<style scoped>\n",
       "    .dataframe tbody tr th:only-of-type {\n",
       "        vertical-align: middle;\n",
       "    }\n",
       "\n",
       "    .dataframe tbody tr th {\n",
       "        vertical-align: top;\n",
       "    }\n",
       "\n",
       "    .dataframe thead th {\n",
       "        text-align: right;\n",
       "    }\n",
       "</style>\n",
       "<table border=\"1\" class=\"dataframe\">\n",
       "  <thead>\n",
       "    <tr style=\"text-align: right;\">\n",
       "      <th></th>\n",
       "      <th>total_bill</th>\n",
       "      <th>tip</th>\n",
       "      <th>sex</th>\n",
       "      <th>smoker</th>\n",
       "      <th>day</th>\n",
       "      <th>time</th>\n",
       "      <th>size</th>\n",
       "    </tr>\n",
       "  </thead>\n",
       "  <tbody>\n",
       "    <tr>\n",
       "      <th>1</th>\n",
       "      <td>16.99</td>\n",
       "      <td>1.01</td>\n",
       "      <td>Female</td>\n",
       "      <td>No</td>\n",
       "      <td>Sun</td>\n",
       "      <td>Dinner</td>\n",
       "      <td>2</td>\n",
       "    </tr>\n",
       "    <tr>\n",
       "      <th>2</th>\n",
       "      <td>10.34</td>\n",
       "      <td>1.66</td>\n",
       "      <td>Male</td>\n",
       "      <td>No</td>\n",
       "      <td>Sun</td>\n",
       "      <td>Dinner</td>\n",
       "      <td>3</td>\n",
       "    </tr>\n",
       "    <tr>\n",
       "      <th>3</th>\n",
       "      <td>21.01</td>\n",
       "      <td>3.50</td>\n",
       "      <td>Male</td>\n",
       "      <td>No</td>\n",
       "      <td>Sun</td>\n",
       "      <td>Dinner</td>\n",
       "      <td>3</td>\n",
       "    </tr>\n",
       "    <tr>\n",
       "      <th>4</th>\n",
       "      <td>23.68</td>\n",
       "      <td>3.31</td>\n",
       "      <td>Male</td>\n",
       "      <td>No</td>\n",
       "      <td>Sun</td>\n",
       "      <td>Dinner</td>\n",
       "      <td>2</td>\n",
       "    </tr>\n",
       "    <tr>\n",
       "      <th>5</th>\n",
       "      <td>24.59</td>\n",
       "      <td>3.61</td>\n",
       "      <td>Female</td>\n",
       "      <td>No</td>\n",
       "      <td>Sun</td>\n",
       "      <td>Dinner</td>\n",
       "      <td>4</td>\n",
       "    </tr>\n",
       "  </tbody>\n",
       "</table>\n",
       "</div>"
      ],
      "text/plain": [
       "   total_bill   tip     sex smoker  day    time  size\n",
       "1       16.99  1.01  Female     No  Sun  Dinner     2\n",
       "2       10.34  1.66    Male     No  Sun  Dinner     3\n",
       "3       21.01  3.50    Male     No  Sun  Dinner     3\n",
       "4       23.68  3.31    Male     No  Sun  Dinner     2\n",
       "5       24.59  3.61  Female     No  Sun  Dinner     4"
      ]
     },
     "execution_count": 3,
     "metadata": {},
     "output_type": "execute_result"
    }
   ],
   "source": [
    "tips = get_tips_data()\n",
    "tips.head()"
   ]
  },
  {
   "cell_type": "markdown",
   "id": "771e35b8",
   "metadata": {},
   "source": [
    "## Examine the data "
   ]
  },
  {
   "cell_type": "code",
   "execution_count": 4,
   "id": "f24db9ac",
   "metadata": {},
   "outputs": [
    {
     "data": {
      "text/html": [
       "<div>\n",
       "<style scoped>\n",
       "    .dataframe tbody tr th:only-of-type {\n",
       "        vertical-align: middle;\n",
       "    }\n",
       "\n",
       "    .dataframe tbody tr th {\n",
       "        vertical-align: top;\n",
       "    }\n",
       "\n",
       "    .dataframe thead th {\n",
       "        text-align: right;\n",
       "    }\n",
       "</style>\n",
       "<table border=\"1\" class=\"dataframe\">\n",
       "  <thead>\n",
       "    <tr style=\"text-align: right;\">\n",
       "      <th></th>\n",
       "      <th>total_bill</th>\n",
       "      <th>tip</th>\n",
       "      <th>size</th>\n",
       "    </tr>\n",
       "  </thead>\n",
       "  <tbody>\n",
       "    <tr>\n",
       "      <th>count</th>\n",
       "      <td>244.000000</td>\n",
       "      <td>244.000000</td>\n",
       "      <td>244.000000</td>\n",
       "    </tr>\n",
       "    <tr>\n",
       "      <th>mean</th>\n",
       "      <td>19.785943</td>\n",
       "      <td>2.998279</td>\n",
       "      <td>2.569672</td>\n",
       "    </tr>\n",
       "    <tr>\n",
       "      <th>std</th>\n",
       "      <td>8.902412</td>\n",
       "      <td>1.383638</td>\n",
       "      <td>0.951100</td>\n",
       "    </tr>\n",
       "    <tr>\n",
       "      <th>min</th>\n",
       "      <td>3.070000</td>\n",
       "      <td>1.000000</td>\n",
       "      <td>1.000000</td>\n",
       "    </tr>\n",
       "    <tr>\n",
       "      <th>25%</th>\n",
       "      <td>13.347500</td>\n",
       "      <td>2.000000</td>\n",
       "      <td>2.000000</td>\n",
       "    </tr>\n",
       "    <tr>\n",
       "      <th>50%</th>\n",
       "      <td>17.795000</td>\n",
       "      <td>2.900000</td>\n",
       "      <td>2.000000</td>\n",
       "    </tr>\n",
       "    <tr>\n",
       "      <th>75%</th>\n",
       "      <td>24.127500</td>\n",
       "      <td>3.562500</td>\n",
       "      <td>3.000000</td>\n",
       "    </tr>\n",
       "    <tr>\n",
       "      <th>max</th>\n",
       "      <td>50.810000</td>\n",
       "      <td>10.000000</td>\n",
       "      <td>6.000000</td>\n",
       "    </tr>\n",
       "  </tbody>\n",
       "</table>\n",
       "</div>"
      ],
      "text/plain": [
       "       total_bill         tip        size\n",
       "count  244.000000  244.000000  244.000000\n",
       "mean    19.785943    2.998279    2.569672\n",
       "std      8.902412    1.383638    0.951100\n",
       "min      3.070000    1.000000    1.000000\n",
       "25%     13.347500    2.000000    2.000000\n",
       "50%     17.795000    2.900000    2.000000\n",
       "75%     24.127500    3.562500    3.000000\n",
       "max     50.810000   10.000000    6.000000"
      ]
     },
     "execution_count": 4,
     "metadata": {},
     "output_type": "execute_result"
    }
   ],
   "source": [
    "# Check the summary structure\n",
    "tips.describe()"
   ]
  },
  {
   "cell_type": "code",
   "execution_count": 5,
   "id": "e43f5c8b",
   "metadata": {},
   "outputs": [
    {
     "name": "stdout",
     "output_type": "stream",
     "text": [
      "<class 'pandas.core.frame.DataFrame'>\n",
      "Int64Index: 244 entries, 1 to 244\n",
      "Data columns (total 7 columns):\n",
      " #   Column      Non-Null Count  Dtype  \n",
      "---  ------      --------------  -----  \n",
      " 0   total_bill  244 non-null    float64\n",
      " 1   tip         244 non-null    float64\n",
      " 2   sex         244 non-null    object \n",
      " 3   smoker      244 non-null    object \n",
      " 4   day         244 non-null    object \n",
      " 5   time        244 non-null    object \n",
      " 6   size        244 non-null    int64  \n",
      "dtypes: float64(2), int64(1), object(4)\n",
      "memory usage: 15.2+ KB\n"
     ]
    }
   ],
   "source": [
    "# Dtypes\n",
    "\n",
    "tips.info()"
   ]
  },
  {
   "cell_type": "code",
   "execution_count": 6,
   "id": "485bb2cf",
   "metadata": {},
   "outputs": [
    {
     "data": {
      "text/plain": [
       "(244, 7)"
      ]
     },
     "execution_count": 6,
     "metadata": {},
     "output_type": "execute_result"
    }
   ],
   "source": [
    "# Shape of the data\n",
    "tips.shape"
   ]
  },
  {
   "cell_type": "code",
   "execution_count": 7,
   "id": "bec3a57f",
   "metadata": {},
   "outputs": [
    {
     "data": {
      "text/plain": [
       "0"
      ]
     },
     "execution_count": 7,
     "metadata": {},
     "output_type": "execute_result"
    }
   ],
   "source": [
    "# Check missing values\n",
    "tips.value_counts().isnull().sum()"
   ]
  },
  {
   "cell_type": "markdown",
   "id": "b3d683b1",
   "metadata": {},
   "source": [
    "## Clean and prepare the tips dataset\n",
    "\n",
    ">- ### No splitting required for this dataset"
   ]
  },
  {
   "cell_type": "code",
   "execution_count": 8,
   "id": "454daf2e",
   "metadata": {},
   "outputs": [
    {
     "data": {
      "text/html": [
       "<div>\n",
       "<style scoped>\n",
       "    .dataframe tbody tr th:only-of-type {\n",
       "        vertical-align: middle;\n",
       "    }\n",
       "\n",
       "    .dataframe tbody tr th {\n",
       "        vertical-align: top;\n",
       "    }\n",
       "\n",
       "    .dataframe thead th {\n",
       "        text-align: right;\n",
       "    }\n",
       "</style>\n",
       "<table border=\"1\" class=\"dataframe\">\n",
       "  <thead>\n",
       "    <tr style=\"text-align: right;\">\n",
       "      <th></th>\n",
       "      <th>total_bill</th>\n",
       "      <th>tip</th>\n",
       "      <th>sex</th>\n",
       "      <th>smoker</th>\n",
       "      <th>day</th>\n",
       "      <th>time</th>\n",
       "      <th>size</th>\n",
       "    </tr>\n",
       "  </thead>\n",
       "  <tbody>\n",
       "    <tr>\n",
       "      <th>1</th>\n",
       "      <td>16.99</td>\n",
       "      <td>1.01</td>\n",
       "      <td>Female</td>\n",
       "      <td>No</td>\n",
       "      <td>Sun</td>\n",
       "      <td>Dinner</td>\n",
       "      <td>2</td>\n",
       "    </tr>\n",
       "    <tr>\n",
       "      <th>2</th>\n",
       "      <td>10.34</td>\n",
       "      <td>1.66</td>\n",
       "      <td>Male</td>\n",
       "      <td>No</td>\n",
       "      <td>Sun</td>\n",
       "      <td>Dinner</td>\n",
       "      <td>3</td>\n",
       "    </tr>\n",
       "    <tr>\n",
       "      <th>3</th>\n",
       "      <td>21.01</td>\n",
       "      <td>3.50</td>\n",
       "      <td>Male</td>\n",
       "      <td>No</td>\n",
       "      <td>Sun</td>\n",
       "      <td>Dinner</td>\n",
       "      <td>3</td>\n",
       "    </tr>\n",
       "    <tr>\n",
       "      <th>4</th>\n",
       "      <td>23.68</td>\n",
       "      <td>3.31</td>\n",
       "      <td>Male</td>\n",
       "      <td>No</td>\n",
       "      <td>Sun</td>\n",
       "      <td>Dinner</td>\n",
       "      <td>2</td>\n",
       "    </tr>\n",
       "    <tr>\n",
       "      <th>5</th>\n",
       "      <td>24.59</td>\n",
       "      <td>3.61</td>\n",
       "      <td>Female</td>\n",
       "      <td>No</td>\n",
       "      <td>Sun</td>\n",
       "      <td>Dinner</td>\n",
       "      <td>4</td>\n",
       "    </tr>\n",
       "  </tbody>\n",
       "</table>\n",
       "</div>"
      ],
      "text/plain": [
       "   total_bill   tip     sex smoker  day    time  size\n",
       "1       16.99  1.01  Female     No  Sun  Dinner     2\n",
       "2       10.34  1.66    Male     No  Sun  Dinner     3\n",
       "3       21.01  3.50    Male     No  Sun  Dinner     3\n",
       "4       23.68  3.31    Male     No  Sun  Dinner     2\n",
       "5       24.59  3.61  Female     No  Sun  Dinner     4"
      ]
     },
     "execution_count": 8,
     "metadata": {},
     "output_type": "execute_result"
    }
   ],
   "source": [
    "clean_tips = prep_tips()\n",
    "tips = clean_tips\n",
    "tips.head()"
   ]
  },
  {
   "cell_type": "code",
   "execution_count": 9,
   "id": "8e9fcd3e",
   "metadata": {
    "scrolled": true
   },
   "outputs": [
    {
     "data": {
      "text/plain": [
       "array([[16.99,  1.01],\n",
       "       [10.34,  1.66],\n",
       "       [21.01,  3.5 ],\n",
       "       [23.68,  3.31],\n",
       "       [24.59,  3.61],\n",
       "       [25.29,  4.71],\n",
       "       [ 8.77,  2.  ],\n",
       "       [26.88,  3.12],\n",
       "       [15.04,  1.96],\n",
       "       [14.78,  3.23],\n",
       "       [10.27,  1.71],\n",
       "       [35.26,  5.  ],\n",
       "       [15.42,  1.57],\n",
       "       [18.43,  3.  ],\n",
       "       [14.83,  3.02],\n",
       "       [21.58,  3.92],\n",
       "       [10.33,  1.67],\n",
       "       [16.29,  3.71],\n",
       "       [16.97,  3.5 ],\n",
       "       [20.65,  3.35],\n",
       "       [17.92,  4.08],\n",
       "       [20.29,  2.75],\n",
       "       [15.77,  2.23],\n",
       "       [39.42,  7.58],\n",
       "       [19.82,  3.18],\n",
       "       [17.81,  2.34],\n",
       "       [13.37,  2.  ],\n",
       "       [12.69,  2.  ],\n",
       "       [21.7 ,  4.3 ],\n",
       "       [19.65,  3.  ],\n",
       "       [ 9.55,  1.45],\n",
       "       [18.35,  2.5 ],\n",
       "       [15.06,  3.  ],\n",
       "       [20.69,  2.45],\n",
       "       [17.78,  3.27],\n",
       "       [24.06,  3.6 ],\n",
       "       [16.31,  2.  ],\n",
       "       [16.93,  3.07],\n",
       "       [18.69,  2.31],\n",
       "       [31.27,  5.  ],\n",
       "       [16.04,  2.24],\n",
       "       [17.46,  2.54],\n",
       "       [13.94,  3.06],\n",
       "       [ 9.68,  1.32],\n",
       "       [30.4 ,  5.6 ],\n",
       "       [18.29,  3.  ],\n",
       "       [22.23,  5.  ],\n",
       "       [32.4 ,  6.  ],\n",
       "       [28.55,  2.05],\n",
       "       [18.04,  3.  ],\n",
       "       [12.54,  2.5 ],\n",
       "       [10.29,  2.6 ],\n",
       "       [34.81,  5.2 ],\n",
       "       [ 9.94,  1.56],\n",
       "       [25.56,  4.34],\n",
       "       [19.49,  3.51],\n",
       "       [38.01,  3.  ],\n",
       "       [26.41,  1.5 ],\n",
       "       [11.24,  1.76],\n",
       "       [48.27,  6.73],\n",
       "       [20.29,  3.21],\n",
       "       [13.81,  2.  ],\n",
       "       [11.02,  1.98],\n",
       "       [18.29,  3.76],\n",
       "       [17.59,  2.64],\n",
       "       [20.08,  3.15],\n",
       "       [16.45,  2.47],\n",
       "       [ 3.07,  1.  ],\n",
       "       [20.23,  2.01],\n",
       "       [15.01,  2.09],\n",
       "       [12.02,  1.97],\n",
       "       [17.07,  3.  ],\n",
       "       [26.86,  3.14],\n",
       "       [25.28,  5.  ],\n",
       "       [14.73,  2.2 ],\n",
       "       [10.51,  1.25],\n",
       "       [17.92,  3.08],\n",
       "       [27.2 ,  4.  ],\n",
       "       [22.76,  3.  ],\n",
       "       [17.29,  2.71],\n",
       "       [19.44,  3.  ],\n",
       "       [16.66,  3.4 ],\n",
       "       [10.07,  1.83],\n",
       "       [32.68,  5.  ],\n",
       "       [15.98,  2.03],\n",
       "       [34.83,  5.17],\n",
       "       [13.03,  2.  ],\n",
       "       [18.28,  4.  ],\n",
       "       [24.71,  5.85],\n",
       "       [21.16,  3.  ],\n",
       "       [28.97,  3.  ],\n",
       "       [22.49,  3.5 ],\n",
       "       [ 5.75,  1.  ],\n",
       "       [16.32,  4.3 ],\n",
       "       [22.75,  3.25],\n",
       "       [40.17,  4.73],\n",
       "       [27.28,  4.  ],\n",
       "       [12.03,  1.5 ],\n",
       "       [21.01,  3.  ],\n",
       "       [12.46,  1.5 ],\n",
       "       [11.35,  2.5 ],\n",
       "       [15.38,  3.  ],\n",
       "       [44.3 ,  2.5 ],\n",
       "       [22.42,  3.48],\n",
       "       [20.92,  4.08],\n",
       "       [15.36,  1.64],\n",
       "       [20.49,  4.06],\n",
       "       [25.21,  4.29],\n",
       "       [18.24,  3.76],\n",
       "       [14.31,  4.  ],\n",
       "       [14.  ,  3.  ],\n",
       "       [ 7.25,  1.  ],\n",
       "       [38.07,  4.  ],\n",
       "       [23.95,  2.55],\n",
       "       [25.71,  4.  ],\n",
       "       [17.31,  3.5 ],\n",
       "       [29.93,  5.07],\n",
       "       [10.65,  1.5 ],\n",
       "       [12.43,  1.8 ],\n",
       "       [24.08,  2.92],\n",
       "       [11.69,  2.31],\n",
       "       [13.42,  1.68],\n",
       "       [14.26,  2.5 ],\n",
       "       [15.95,  2.  ],\n",
       "       [12.48,  2.52],\n",
       "       [29.8 ,  4.2 ],\n",
       "       [ 8.52,  1.48],\n",
       "       [14.52,  2.  ],\n",
       "       [11.38,  2.  ],\n",
       "       [22.82,  2.18],\n",
       "       [19.08,  1.5 ],\n",
       "       [20.27,  2.83],\n",
       "       [11.17,  1.5 ],\n",
       "       [12.26,  2.  ],\n",
       "       [18.26,  3.25],\n",
       "       [ 8.51,  1.25],\n",
       "       [10.33,  2.  ],\n",
       "       [14.15,  2.  ],\n",
       "       [16.  ,  2.  ],\n",
       "       [13.16,  2.75],\n",
       "       [17.47,  3.5 ],\n",
       "       [34.3 ,  6.7 ],\n",
       "       [41.19,  5.  ],\n",
       "       [27.05,  5.  ],\n",
       "       [16.43,  2.3 ],\n",
       "       [ 8.35,  1.5 ],\n",
       "       [18.64,  1.36],\n",
       "       [11.87,  1.63],\n",
       "       [ 9.78,  1.73],\n",
       "       [ 7.51,  2.  ],\n",
       "       [14.07,  2.5 ],\n",
       "       [13.13,  2.  ],\n",
       "       [17.26,  2.74],\n",
       "       [24.55,  2.  ],\n",
       "       [19.77,  2.  ],\n",
       "       [29.85,  5.14],\n",
       "       [48.17,  5.  ],\n",
       "       [25.  ,  3.75],\n",
       "       [13.39,  2.61],\n",
       "       [16.49,  2.  ],\n",
       "       [21.5 ,  3.5 ],\n",
       "       [12.66,  2.5 ],\n",
       "       [16.21,  2.  ],\n",
       "       [13.81,  2.  ],\n",
       "       [17.51,  3.  ],\n",
       "       [24.52,  3.48],\n",
       "       [20.76,  2.24],\n",
       "       [31.71,  4.5 ],\n",
       "       [10.59,  1.61],\n",
       "       [10.63,  2.  ],\n",
       "       [50.81, 10.  ],\n",
       "       [15.81,  3.16],\n",
       "       [ 7.25,  5.15],\n",
       "       [31.85,  3.18],\n",
       "       [16.82,  4.  ],\n",
       "       [32.9 ,  3.11],\n",
       "       [17.89,  2.  ],\n",
       "       [14.48,  2.  ],\n",
       "       [ 9.6 ,  4.  ],\n",
       "       [34.63,  3.55],\n",
       "       [34.65,  3.68],\n",
       "       [23.33,  5.65],\n",
       "       [45.35,  3.5 ],\n",
       "       [23.17,  6.5 ],\n",
       "       [40.55,  3.  ],\n",
       "       [20.69,  5.  ],\n",
       "       [20.9 ,  3.5 ],\n",
       "       [30.46,  2.  ],\n",
       "       [18.15,  3.5 ],\n",
       "       [23.1 ,  4.  ],\n",
       "       [15.69,  1.5 ],\n",
       "       [19.81,  4.19],\n",
       "       [28.44,  2.56],\n",
       "       [15.48,  2.02],\n",
       "       [16.58,  4.  ],\n",
       "       [ 7.56,  1.44],\n",
       "       [10.34,  2.  ],\n",
       "       [43.11,  5.  ],\n",
       "       [13.  ,  2.  ],\n",
       "       [13.51,  2.  ],\n",
       "       [18.71,  4.  ],\n",
       "       [12.74,  2.01],\n",
       "       [16.4 ,  2.5 ],\n",
       "       [20.53,  4.  ],\n",
       "       [16.47,  3.23],\n",
       "       [26.59,  3.41],\n",
       "       [38.73,  3.  ],\n",
       "       [24.27,  2.03],\n",
       "       [12.76,  2.23],\n",
       "       [30.06,  2.  ],\n",
       "       [25.89,  5.16],\n",
       "       [48.33,  9.  ],\n",
       "       [13.27,  2.5 ],\n",
       "       [28.17,  6.5 ],\n",
       "       [12.9 ,  1.1 ],\n",
       "       [28.15,  3.  ],\n",
       "       [11.59,  1.5 ],\n",
       "       [ 7.74,  1.44],\n",
       "       [30.14,  3.09],\n",
       "       [12.16,  2.2 ],\n",
       "       [13.42,  3.48],\n",
       "       [ 8.58,  1.92],\n",
       "       [15.98,  3.  ],\n",
       "       [13.42,  1.58],\n",
       "       [16.27,  2.5 ],\n",
       "       [10.09,  2.  ],\n",
       "       [20.45,  3.  ],\n",
       "       [13.28,  2.72],\n",
       "       [22.12,  2.88],\n",
       "       [24.01,  2.  ],\n",
       "       [15.69,  3.  ],\n",
       "       [11.61,  3.39],\n",
       "       [10.77,  1.47],\n",
       "       [15.53,  3.  ],\n",
       "       [10.07,  1.25],\n",
       "       [12.6 ,  1.  ],\n",
       "       [32.83,  1.17],\n",
       "       [35.83,  4.67],\n",
       "       [29.03,  5.92],\n",
       "       [27.18,  2.  ],\n",
       "       [22.67,  2.  ],\n",
       "       [17.82,  1.75],\n",
       "       [18.78,  3.  ]])"
      ]
     },
     "execution_count": 9,
     "metadata": {},
     "output_type": "execute_result"
    }
   ],
   "source": [
    "np.array(tips[['total_bill', 'tip']].to_numpy())"
   ]
  },
  {
   "cell_type": "code",
   "execution_count": 10,
   "id": "b52292c0",
   "metadata": {},
   "outputs": [
    {
     "data": {
      "text/html": [
       "<div>\n",
       "<style scoped>\n",
       "    .dataframe tbody tr th:only-of-type {\n",
       "        vertical-align: middle;\n",
       "    }\n",
       "\n",
       "    .dataframe tbody tr th {\n",
       "        vertical-align: top;\n",
       "    }\n",
       "\n",
       "    .dataframe thead th {\n",
       "        text-align: right;\n",
       "    }\n",
       "</style>\n",
       "<table border=\"1\" class=\"dataframe\">\n",
       "  <thead>\n",
       "    <tr style=\"text-align: right;\">\n",
       "      <th></th>\n",
       "      <th>total_bill</th>\n",
       "      <th>tip</th>\n",
       "    </tr>\n",
       "  </thead>\n",
       "  <tbody>\n",
       "    <tr>\n",
       "      <th>0</th>\n",
       "      <td>16.99</td>\n",
       "      <td>1.01</td>\n",
       "    </tr>\n",
       "    <tr>\n",
       "      <th>1</th>\n",
       "      <td>10.34</td>\n",
       "      <td>1.66</td>\n",
       "    </tr>\n",
       "    <tr>\n",
       "      <th>2</th>\n",
       "      <td>21.01</td>\n",
       "      <td>3.50</td>\n",
       "    </tr>\n",
       "  </tbody>\n",
       "</table>\n",
       "</div>"
      ],
      "text/plain": [
       "   total_bill   tip\n",
       "0       16.99  1.01\n",
       "1       10.34  1.66\n",
       "2       21.01  3.50"
      ]
     },
     "execution_count": 10,
     "metadata": {},
     "output_type": "execute_result"
    }
   ],
   "source": [
    "# Reshape the array and rename the columns\n",
    "\n",
    "tips_features = pd.DataFrame(np.array(tips[['total_bill', 'tip']].to_numpy()), columns = ['total_bill', 'tip'])\n",
    "tips_features.head(3)"
   ]
  },
  {
   "cell_type": "code",
   "execution_count": 11,
   "id": "cb4286a8",
   "metadata": {},
   "outputs": [],
   "source": [
    "# Map X, and y to features of interest and check lenght\n",
    "\n",
    "X = tips_features['total_bill']\n",
    "y = tips_features['tip']"
   ]
  },
  {
   "cell_type": "markdown",
   "id": "6429ca48",
   "metadata": {},
   "source": [
    "## Visualize features of interest "
   ]
  },
  {
   "cell_type": "code",
   "execution_count": 12,
   "id": "bea892f5",
   "metadata": {},
   "outputs": [
    {
     "data": {
      "image/png": "[encoded data removed]",
      "text/plain": [
       "<Figure size 1152x720 with 1 Axes>"
      ]
     },
     "metadata": {},
     "output_type": "display_data"
    }
   ],
   "source": [
    "plt.figure(figsize = (16, 10))\n",
    "plt.scatter(X, y)\n",
    "plt.title('Scatter of tips vs total bill', color = 'black', weight = 'bold', size = 20)\n",
    "plt.xlabel('Total Bill (USD)', size = 10, color = 'black')\n",
    "plt.ylabel('Tiped amount (USD)')\n",
    "plt.show()"
   ]
  },
  {
   "cell_type": "markdown",
   "id": "94fa2e4f",
   "metadata": {},
   "source": [
    "## Take aways:\n",
    ">- #### Total bill and tips are in the right data type (float)\n",
    ">- #### The data contains no missing value"
   ]
  },
  {
   "cell_type": "markdown",
   "id": "6dbcc452",
   "metadata": {},
   "source": [
    "### 2. Fit a linear regression model (ordinary least squares) and compute yhat, predictions of tip using total_bill."
   ]
  },
  {
   "cell_type": "markdown",
   "id": "76f53ed5",
   "metadata": {},
   "source": [
    "### Create a yhat baseline"
   ]
  },
  {
   "cell_type": "code",
   "execution_count": 13,
   "id": "886b5940",
   "metadata": {},
   "outputs": [],
   "source": [
    "tips_features['yhat_baseline'] = tips_features['tip'].mean()"
   ]
  },
  {
   "cell_type": "code",
   "execution_count": 14,
   "id": "395d8979",
   "metadata": {},
   "outputs": [
    {
     "data": {
      "text/html": [
       "<div>\n",
       "<style scoped>\n",
       "    .dataframe tbody tr th:only-of-type {\n",
       "        vertical-align: middle;\n",
       "    }\n",
       "\n",
       "    .dataframe tbody tr th {\n",
       "        vertical-align: top;\n",
       "    }\n",
       "\n",
       "    .dataframe thead th {\n",
       "        text-align: right;\n",
       "    }\n",
       "</style>\n",
       "<table border=\"1\" class=\"dataframe\">\n",
       "  <thead>\n",
       "    <tr style=\"text-align: right;\">\n",
       "      <th></th>\n",
       "      <th>total_bill</th>\n",
       "      <th>tip</th>\n",
       "      <th>yhat_baseline</th>\n",
       "    </tr>\n",
       "  </thead>\n",
       "  <tbody>\n",
       "    <tr>\n",
       "      <th>0</th>\n",
       "      <td>16.99</td>\n",
       "      <td>1.01</td>\n",
       "      <td>3.002387</td>\n",
       "    </tr>\n",
       "    <tr>\n",
       "      <th>1</th>\n",
       "      <td>10.34</td>\n",
       "      <td>1.66</td>\n",
       "      <td>3.002387</td>\n",
       "    </tr>\n",
       "    <tr>\n",
       "      <th>2</th>\n",
       "      <td>21.01</td>\n",
       "      <td>3.50</td>\n",
       "      <td>3.002387</td>\n",
       "    </tr>\n",
       "    <tr>\n",
       "      <th>3</th>\n",
       "      <td>23.68</td>\n",
       "      <td>3.31</td>\n",
       "      <td>3.002387</td>\n",
       "    </tr>\n",
       "    <tr>\n",
       "      <th>4</th>\n",
       "      <td>24.59</td>\n",
       "      <td>3.61</td>\n",
       "      <td>3.002387</td>\n",
       "    </tr>\n",
       "  </tbody>\n",
       "</table>\n",
       "</div>"
      ],
      "text/plain": [
       "   total_bill   tip  yhat_baseline\n",
       "0       16.99  1.01       3.002387\n",
       "1       10.34  1.66       3.002387\n",
       "2       21.01  3.50       3.002387\n",
       "3       23.68  3.31       3.002387\n",
       "4       24.59  3.61       3.002387"
      ]
     },
     "execution_count": 14,
     "metadata": {},
     "output_type": "execute_result"
    }
   ],
   "source": [
    "tips_features.head()"
   ]
  },
  {
   "cell_type": "markdown",
   "id": "0515b841",
   "metadata": {},
   "source": [
    "### Build the model"
   ]
  },
  {
   "cell_type": "code",
   "execution_count": 15,
   "id": "ecde8be9",
   "metadata": {},
   "outputs": [
    {
     "data": {
      "text/html": [
       "<div>\n",
       "<style scoped>\n",
       "    .dataframe tbody tr th:only-of-type {\n",
       "        vertical-align: middle;\n",
       "    }\n",
       "\n",
       "    .dataframe tbody tr th {\n",
       "        vertical-align: top;\n",
       "    }\n",
       "\n",
       "    .dataframe thead th {\n",
       "        text-align: right;\n",
       "    }\n",
       "</style>\n",
       "<table border=\"1\" class=\"dataframe\">\n",
       "  <thead>\n",
       "    <tr style=\"text-align: right;\">\n",
       "      <th></th>\n",
       "      <th>total_bill</th>\n",
       "      <th>tip</th>\n",
       "      <th>yhat_baseline</th>\n",
       "      <th>yhat_predicted</th>\n",
       "    </tr>\n",
       "  </thead>\n",
       "  <tbody>\n",
       "    <tr>\n",
       "      <th>0</th>\n",
       "      <td>16.99</td>\n",
       "      <td>1.01</td>\n",
       "      <td>3.002387</td>\n",
       "      <td>2.706097</td>\n",
       "    </tr>\n",
       "    <tr>\n",
       "      <th>1</th>\n",
       "      <td>10.34</td>\n",
       "      <td>1.66</td>\n",
       "      <td>3.002387</td>\n",
       "      <td>2.008358</td>\n",
       "    </tr>\n",
       "    <tr>\n",
       "      <th>2</th>\n",
       "      <td>21.01</td>\n",
       "      <td>3.50</td>\n",
       "      <td>3.002387</td>\n",
       "      <td>3.127889</td>\n",
       "    </tr>\n",
       "  </tbody>\n",
       "</table>\n",
       "</div>"
      ],
      "text/plain": [
       "   total_bill   tip  yhat_baseline  yhat_predicted\n",
       "0       16.99  1.01       3.002387        2.706097\n",
       "1       10.34  1.66       3.002387        2.008358\n",
       "2       21.01  3.50       3.002387        3.127889"
      ]
     },
     "execution_count": 15,
     "metadata": {},
     "output_type": "execute_result"
    }
   ],
   "source": [
    "# Import the required library\n",
    "from sklearn.linear_model import LinearRegression\n",
    "\n",
    "# Create the model\n",
    "model = LinearRegression()\n",
    "\n",
    "# Fit the model \n",
    "model.fit(tips_features[['total_bill']], tips_features.tip)\n",
    "\n",
    "# compute predictions and add to original dataframe\n",
    "tips_features['yhat_predicted'] = model.predict(tips_features[['total_bill']])\n",
    "\n",
    "tips_features.head(3)\n"
   ]
  },
  {
   "cell_type": "markdown",
   "id": "5499bd82",
   "metadata": {},
   "source": [
    "### (3). Plot the residuals for the linear regression model that you made.\n",
    "\n"
   ]
  },
  {
   "cell_type": "code",
   "execution_count": 16,
   "id": "78057978",
   "metadata": {
    "scrolled": false
   },
   "outputs": [
    {
     "data": {
      "image/png": "[encoded data removed]",
      "text/plain": [
       "<Figure size 1152x720 with 1 Axes>"
      ]
     },
     "metadata": {},
     "output_type": "display_data"
    }
   ],
   "source": [
    "visual_tip(tips_features, X, y)"
   ]
  },
  {
   "cell_type": "markdown",
   "id": "d93cdc38",
   "metadata": {},
   "source": [
    "### (4). Calculate the sum of squared errors, explained sum of squares, total sum of squares, mean squared error, and root mean squared error for your model.\n",
    "\n",
    "\n",
    "#### (i). Sum of Squared Errors (SSE) - Model"
   ]
  },
  {
   "cell_type": "code",
   "execution_count": 17,
   "id": "5187443b",
   "metadata": {},
   "outputs": [
    {
     "data": {
      "text/plain": [
       "252.70665040848206"
      ]
     },
     "execution_count": 17,
     "metadata": {},
     "output_type": "execute_result"
    }
   ],
   "source": [
    "# Calculation of SSE using the Scikit method\n",
    "\n",
    "SSE_model = mean_squared_error(tips_features.tip, tips_features.yhat_predicted) * len(tips_features)\n",
    "SSE_model\n"
   ]
  },
  {
   "cell_type": "markdown",
   "id": "32b68743",
   "metadata": {},
   "source": [
    "#### (ii). Explained Sum of Squares (ESS) - Model\n"
   ]
  },
  {
   "cell_type": "code",
   "execution_count": 18,
   "id": "1cdcfb62",
   "metadata": {},
   "outputs": [
    {
     "data": {
      "text/plain": [
       "-1460.9013843621408"
      ]
     },
     "execution_count": 18,
     "metadata": {},
     "output_type": "execute_result"
    }
   ],
   "source": [
    "ESS_model = sum(tips_features.yhat_predicted - tips_features.tip.mean() ** 2)\n",
    "ESS_model\n"
   ]
  },
  {
   "cell_type": "markdown",
   "id": "cda18868",
   "metadata": {},
   "source": [
    "#### (iii). Total Sum of Squares (TSS) - model"
   ]
  },
  {
   "cell_type": "code",
   "execution_count": 19,
   "id": "d351f708",
   "metadata": {},
   "outputs": [
    {
     "data": {
      "text/plain": [
       "-1208.1947339536587"
      ]
     },
     "execution_count": 19,
     "metadata": {},
     "output_type": "execute_result"
    }
   ],
   "source": [
    "TSS_model = (ESS_model + SSE_model)\n",
    "TSS_model\n"
   ]
  },
  {
   "cell_type": "markdown",
   "id": "066ce6d9",
   "metadata": {},
   "source": [
    "#### (iv). Mean Squared Error  (MSE) - model"
   ]
  },
  {
   "cell_type": "code",
   "execution_count": 20,
   "id": "ea296b83",
   "metadata": {},
   "outputs": [
    {
     "data": {
      "text/plain": [
       "1.0399450634093912"
      ]
     },
     "execution_count": 20,
     "metadata": {},
     "output_type": "execute_result"
    }
   ],
   "source": [
    "MSE_model = mean_squared_error(tips_features.tip, tips_features.yhat_predicted)\n",
    "MSE_model\n"
   ]
  },
  {
   "cell_type": "markdown",
   "id": "7d0aa3f0",
   "metadata": {},
   "source": [
    "#### (v). Root Mean Squared Error (RMSE)"
   ]
  },
  {
   "cell_type": "code",
   "execution_count": 21,
   "id": "9ba3f2ae",
   "metadata": {},
   "outputs": [
    {
     "data": {
      "text/plain": [
       "1.0197769674832782"
      ]
     },
     "execution_count": 21,
     "metadata": {},
     "output_type": "execute_result"
    }
   ],
   "source": [
    "RMSE_model = sqrt(mean_squared_error(tips_features.tip, tips_features.yhat_predicted))\n",
    "RMSE_model\n"
   ]
  },
  {
   "cell_type": "markdown",
   "id": "fdf21f7b",
   "metadata": {},
   "source": [
    "### (5). Calculate the sum of squared errors, mean squared error, and root mean squared error for the baseline model(i.e. a model that always predicts the average tip amount).\n",
    "\n"
   ]
  },
  {
   "cell_type": "markdown",
   "id": "f00039a5",
   "metadata": {},
   "source": [
    "(i). Sum of Squared Errors (SSE) - baseline\n"
   ]
  },
  {
   "cell_type": "code",
   "execution_count": 22,
   "id": "b854f774",
   "metadata": {},
   "outputs": [
    {
     "data": {
      "text/plain": [
       "464.2118156378601"
      ]
     },
     "execution_count": 22,
     "metadata": {},
     "output_type": "execute_result"
    }
   ],
   "source": [
    "SSE_baseline = mean_squared_error(tips_features.tip, tips_features.yhat_baseline) * len(tips_features)\n",
    "SSE_baseline\n"
   ]
  },
  {
   "cell_type": "markdown",
   "id": "fe2c8b74",
   "metadata": {},
   "source": [
    "#### (ii). Explained Sum of Squares (ESS) - Baseline "
   ]
  },
  {
   "cell_type": "code",
   "execution_count": 23,
   "id": "e67ed648",
   "metadata": {},
   "outputs": [
    {
     "data": {
      "text/plain": [
       "-1460.9013843621321"
      ]
     },
     "execution_count": 23,
     "metadata": {},
     "output_type": "execute_result"
    }
   ],
   "source": [
    "ESS_baseline = sum(tips_features.yhat_baseline - tips_features.tip.mean() ** 2)\n",
    "ESS_baseline\n"
   ]
  },
  {
   "cell_type": "markdown",
   "id": "a8b934dc",
   "metadata": {},
   "source": [
    "#### (iii). Total Sum of Squares (TSS) - baseline"
   ]
  },
  {
   "cell_type": "code",
   "execution_count": 24,
   "id": "4a455911",
   "metadata": {},
   "outputs": [
    {
     "data": {
      "text/plain": [
       "-996.689568724272"
      ]
     },
     "execution_count": 24,
     "metadata": {},
     "output_type": "execute_result"
    }
   ],
   "source": [
    "TSS_baseline = (ESS_baseline + SSE_baseline)\n",
    "TSS_baseline"
   ]
  },
  {
   "cell_type": "markdown",
   "id": "bd31f312",
   "metadata": {},
   "source": [
    "#### (iv). Mean Squared Error  (MSE) - baseline"
   ]
  },
  {
   "cell_type": "code",
   "execution_count": 25,
   "id": "2ccbed82",
   "metadata": {},
   "outputs": [
    {
     "data": {
      "text/plain": [
       "1.9103366898677372"
      ]
     },
     "execution_count": 25,
     "metadata": {},
     "output_type": "execute_result"
    }
   ],
   "source": [
    "MSE_baseline = mean_squared_error(tips_features.tip, tips_features.yhat_baseline)\n",
    "MSE_baseline\n"
   ]
  },
  {
   "cell_type": "markdown",
   "id": "8ee3be7e",
   "metadata": {},
   "source": [
    "#### (v). Root Mean Squared Error (RMSE) - Baseline\n"
   ]
  },
  {
   "cell_type": "code",
   "execution_count": 26,
   "id": "936e33e1",
   "metadata": {},
   "outputs": [
    {
     "data": {
      "text/plain": [
       "1.382149300859982"
      ]
     },
     "execution_count": 26,
     "metadata": {},
     "output_type": "execute_result"
    }
   ],
   "source": [
    "RMSE_baseline = sqrt(mean_squared_error(tips_features.tip, tips_features.yhat_baseline))\n",
    "RMSE_baseline\n"
   ]
  },
  {
   "cell_type": "markdown",
   "id": "7b5b6f38",
   "metadata": {},
   "source": [
    "#### (6). Write python code that compares the sum of squared errors for your model against the sum of squared errors for the baseline model and outputs whether or not your model performs better than the baseline model."
   ]
  },
  {
   "cell_type": "code",
   "execution_count": 27,
   "id": "c8b2fd99",
   "metadata": {},
   "outputs": [
    {
     "name": "stdout",
     "output_type": "stream",
     "text": [
      "Baseline SSE: 464.2118156378601\n",
      "\n",
      "Model SSE: 252.70665040848206\n"
     ]
    }
   ],
   "source": [
    "(SSE_baseline == SSE_model)\n",
    "\n",
    "print(f'Baseline SSE: {SSE_baseline}\\n\\nModel SSE: {SSE_model}')"
   ]
  },
  {
   "cell_type": "code",
   "execution_count": 28,
   "id": "85365d6a",
   "metadata": {},
   "outputs": [
    {
     "name": "stdout",
     "output_type": "stream",
     "text": [
      "        Baseline  Baseline_Error\n",
      "0   SSE_baseline      464.211816\n",
      "1   MSE_baseline        1.910337\n",
      "2  RMSE_baseline        1.382149\n",
      "\n",
      "   Model_Prediction  Model_Error\n",
      "0        SSE_model   252.706650\n",
      "1        MSE_model     1.039945\n",
      "2       RMSE_model     1.019777\n"
     ]
    }
   ],
   "source": [
    "# Comprehensive with all the calculations\n",
    "\n",
    "baseline = pd.DataFrame(np.array(['SSE_baseline', 'MSE_baseline', 'RMSE_baseline']), columns=['Baseline'])\n",
    "modeled_prediction = pd.DataFrame(np.array(['SSE_model', 'MSE_model', 'RMSE_model']), columns=['Model_Prediction'])\n",
    "\n",
    "baseline['Baseline_Error'] = np.array([SSE_baseline, MSE_baseline, RMSE_baseline])\n",
    "modeled_prediction['Model_Error'] = np.array([SSE_model, MSE_model, RMSE_model])\n",
    "\n",
    "\n",
    "print(f'{baseline}\\n\\n {modeled_prediction}')"
   ]
  },
  {
   "cell_type": "markdown",
   "id": "93777e65",
   "metadata": {},
   "source": [
    "### (7). What is the amount of variance explained in your model?\n",
    "\n"
   ]
  },
  {
   "cell_type": "code",
   "execution_count": 29,
   "id": "150e04fb",
   "metadata": {},
   "outputs": [
    {
     "data": {
      "text/html": [
       "<div>\n",
       "<style scoped>\n",
       "    .dataframe tbody tr th:only-of-type {\n",
       "        vertical-align: middle;\n",
       "    }\n",
       "\n",
       "    .dataframe tbody tr th {\n",
       "        vertical-align: top;\n",
       "    }\n",
       "\n",
       "    .dataframe thead th {\n",
       "        text-align: right;\n",
       "    }\n",
       "</style>\n",
       "<table border=\"1\" class=\"dataframe\">\n",
       "  <thead>\n",
       "    <tr style=\"text-align: right;\">\n",
       "      <th></th>\n",
       "      <th>Baseline</th>\n",
       "      <th>Baseline_Error</th>\n",
       "      <th>Error_Delta</th>\n",
       "    </tr>\n",
       "  </thead>\n",
       "  <tbody>\n",
       "    <tr>\n",
       "      <th>0</th>\n",
       "      <td>SSE_baseline</td>\n",
       "      <td>464.211816</td>\n",
       "      <td>-211.505165</td>\n",
       "    </tr>\n",
       "    <tr>\n",
       "      <th>1</th>\n",
       "      <td>MSE_baseline</td>\n",
       "      <td>1.910337</td>\n",
       "      <td>-0.870392</td>\n",
       "    </tr>\n",
       "    <tr>\n",
       "      <th>2</th>\n",
       "      <td>RMSE_baseline</td>\n",
       "      <td>1.382149</td>\n",
       "      <td>-0.362372</td>\n",
       "    </tr>\n",
       "  </tbody>\n",
       "</table>\n",
       "</div>"
      ],
      "text/plain": [
       "        Baseline  Baseline_Error  Error_Delta\n",
       "0   SSE_baseline      464.211816  -211.505165\n",
       "1   MSE_baseline        1.910337    -0.870392\n",
       "2  RMSE_baseline        1.382149    -0.362372"
      ]
     },
     "execution_count": 29,
     "metadata": {},
     "output_type": "execute_result"
    }
   ],
   "source": [
    "baseline['Error_Delta'] = (modeled_prediction.Model_Error - baseline.Baseline_Error)\n",
    "\n",
    "baseline\n"
   ]
  },
  {
   "cell_type": "markdown",
   "id": "b15ad41e",
   "metadata": {},
   "source": [
    "### (8). Is your model better than the baseline model?"
   ]
  },
  {
   "cell_type": "markdown",
   "id": "afe72f03",
   "metadata": {},
   "source": [
    ">- From the result in section #6 & #7 above the comparison of the model and the baseline, the model appears to perform better than the predicted modal. In section #6, SSE model is 252.71 and SSE baseline 464.21. A difference of almost half better with the model predicction. With MSE and RMSE the model outperforms the baseline too confirming the SSE figures."
   ]
  },
  {
   "cell_type": "markdown",
   "id": "7e6b4b02",
   "metadata": {},
   "source": [
    "### (9). Create a file named evaluate.py that contains the following functions.\n",
    "\n",
    ">- plot_residuals(y, yhat): creates a residual plot\n",
    "\n",
    ">- regression_errors(y, yhat): returns the following values:\n",
    ">>- sum of squared errors (SSE)\n",
    ">>- explained sum of squares (ESS)\n",
    ">>- total sum of squares (TSS)\n",
    ">>- mean squared error (MSE)\n",
    ">>- root mean squared error (RMSE)\n",
    "\n",
    ">- baseline_mean_errors(y): computes the SSE, MSE, and RMSE for the baseline model\n",
    ">- better_than_baseline(y, yhat): returns true if your model performs better than the baseline, otherwise false"
   ]
  },
  {
   "cell_type": "markdown",
   "metadata": {},
   "source": []
  },
  {
   "cell_type": "markdown",
   "id": "f0267880",
   "metadata": {},
   "source": []
  },
  {
   "cell_type": "markdown",
   "id": "1dbf5047",
   "metadata": {},
   "source": [
    "### (9). Load the mpg dataset and fit a model that predicts highway mileage based on engine displacement. Take a look at all the regression evaluation metrics, and determine whether this model is better than the baseline model. Use the functions from your evaluate.py to help accomplish this."
   ]
  },
  {
   "cell_type": "code",
   "execution_count": 31,
   "id": "9e223ab5",
   "metadata": {},
   "outputs": [
    {
     "data": {
      "text/html": [
       "<div>\n",
       "<style scoped>\n",
       "    .dataframe tbody tr th:only-of-type {\n",
       "        vertical-align: middle;\n",
       "    }\n",
       "\n",
       "    .dataframe tbody tr th {\n",
       "        vertical-align: top;\n",
       "    }\n",
       "\n",
       "    .dataframe thead th {\n",
       "        text-align: right;\n",
       "    }\n",
       "</style>\n",
       "<table border=\"1\" class=\"dataframe\">\n",
       "  <thead>\n",
       "    <tr style=\"text-align: right;\">\n",
       "      <th></th>\n",
       "      <th>manufacturer</th>\n",
       "      <th>model</th>\n",
       "      <th>displ</th>\n",
       "      <th>year</th>\n",
       "      <th>cyl</th>\n",
       "      <th>trans</th>\n",
       "      <th>drv</th>\n",
       "      <th>cty</th>\n",
       "      <th>hwy</th>\n",
       "      <th>fl</th>\n",
       "      <th>class</th>\n",
       "    </tr>\n",
       "  </thead>\n",
       "  <tbody>\n",
       "    <tr>\n",
       "      <th>1</th>\n",
       "      <td>audi</td>\n",
       "      <td>a4</td>\n",
       "      <td>1.8</td>\n",
       "      <td>1999</td>\n",
       "      <td>4</td>\n",
       "      <td>auto(l5)</td>\n",
       "      <td>f</td>\n",
       "      <td>18</td>\n",
       "      <td>29</td>\n",
       "      <td>p</td>\n",
       "      <td>compact</td>\n",
       "    </tr>\n",
       "    <tr>\n",
       "      <th>2</th>\n",
       "      <td>audi</td>\n",
       "      <td>a4</td>\n",
       "      <td>1.8</td>\n",
       "      <td>1999</td>\n",
       "      <td>4</td>\n",
       "      <td>manual(m5)</td>\n",
       "      <td>f</td>\n",
       "      <td>21</td>\n",
       "      <td>29</td>\n",
       "      <td>p</td>\n",
       "      <td>compact</td>\n",
       "    </tr>\n",
       "    <tr>\n",
       "      <th>3</th>\n",
       "      <td>audi</td>\n",
       "      <td>a4</td>\n",
       "      <td>2.0</td>\n",
       "      <td>2008</td>\n",
       "      <td>4</td>\n",
       "      <td>manual(m6)</td>\n",
       "      <td>f</td>\n",
       "      <td>20</td>\n",
       "      <td>31</td>\n",
       "      <td>p</td>\n",
       "      <td>compact</td>\n",
       "    </tr>\n",
       "    <tr>\n",
       "      <th>4</th>\n",
       "      <td>audi</td>\n",
       "      <td>a4</td>\n",
       "      <td>2.0</td>\n",
       "      <td>2008</td>\n",
       "      <td>4</td>\n",
       "      <td>auto(av)</td>\n",
       "      <td>f</td>\n",
       "      <td>21</td>\n",
       "      <td>30</td>\n",
       "      <td>p</td>\n",
       "      <td>compact</td>\n",
       "    </tr>\n",
       "    <tr>\n",
       "      <th>5</th>\n",
       "      <td>audi</td>\n",
       "      <td>a4</td>\n",
       "      <td>2.8</td>\n",
       "      <td>1999</td>\n",
       "      <td>6</td>\n",
       "      <td>auto(l5)</td>\n",
       "      <td>f</td>\n",
       "      <td>16</td>\n",
       "      <td>26</td>\n",
       "      <td>p</td>\n",
       "      <td>compact</td>\n",
       "    </tr>\n",
       "  </tbody>\n",
       "</table>\n",
       "</div>"
      ],
      "text/plain": [
       "  manufacturer model  displ  year  cyl       trans drv  cty  hwy fl    class\n",
       "1         audi    a4    1.8  1999    4    auto(l5)   f   18   29  p  compact\n",
       "2         audi    a4    1.8  1999    4  manual(m5)   f   21   29  p  compact\n",
       "3         audi    a4    2.0  2008    4  manual(m6)   f   20   31  p  compact\n",
       "4         audi    a4    2.0  2008    4    auto(av)   f   21   30  p  compact\n",
       "5         audi    a4    2.8  1999    6    auto(l5)   f   16   26  p  compact"
      ]
     },
     "execution_count": 31,
     "metadata": {},
     "output_type": "execute_result"
    }
   ],
   "source": [
    "mpg = get_clean_mpg_data()\n",
    "mpg.head()"
   ]
  },
  {
   "cell_type": "markdown",
   "id": "7db39a44",
   "metadata": {},
   "source": []
  }
 ],
 "metadata": {
  "kernelspec": {
   "display_name": "Python 3 (ipykernel)",
   "language": "python",
   "name": "python3"
  },
  "language_info": {
   "codemirror_mode": {
    "name": "ipython",
    "version": 3
   },
   "file_extension": ".py",
   "mimetype": "text/x-python",
   "name": "python",
   "nbconvert_exporter": "python",
   "pygments_lexer": "ipython3",
   "version": "3.9.7"
  }
 },
 "nbformat": 4,
 "nbformat_minor": 5
}
