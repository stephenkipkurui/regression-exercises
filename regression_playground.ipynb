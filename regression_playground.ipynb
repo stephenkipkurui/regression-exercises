{
 "cells": [
  {
   "cell_type": "markdown",
   "id": "ee94a772",
   "metadata": {},
   "source": [
    "# Evaluating Regression Model (Complete Walkthrough)"
   ]
  },
  {
   "cell_type": "markdown",
   "id": "da0ff5a1",
   "metadata": {},
   "source": [
    "# Sample Scenario\n",
    "\n",
    "### My students have just completed the first exam in the spring semester literature class. I want to know if there is anyone I should be concerned about at this point so that we can get ahead of a problem before it forms.\n",
    "\n",
    "### I have the data from last semester's class. Neither the content nor the exams have changed in any way, so I'm hoping I can use that data to find the line that most closely predicts final grades. Once I find the \"Line of Best Fit\" or the \"Regression Line\", I can use the equation to calculate the current students' final grades using their first exam grades.\n",
    "\n",
    "#### There are 3 questions we need to answer:\n",
    "\n",
    "##### How do we know if our model is good enough?\n",
    "##### How do we find the line of best fit?\n",
    "##### How do we evaluate our model?\n",
    "##### Are our features valuable?"
   ]
  },
  {
   "cell_type": "markdown",
   "id": "36ff7cef",
   "metadata": {},
   "source": [
    "## Get sample data"
   ]
  },
  {
   "cell_type": "code",
   "execution_count": 65,
   "id": "b69b37f2",
   "metadata": {},
   "outputs": [
    {
     "data": {
      "text/html": [
       "<div>\n",
       "<style scoped>\n",
       "    .dataframe tbody tr th:only-of-type {\n",
       "        vertical-align: middle;\n",
       "    }\n",
       "\n",
       "    .dataframe tbody tr th {\n",
       "        vertical-align: top;\n",
       "    }\n",
       "\n",
       "    .dataframe thead th {\n",
       "        text-align: right;\n",
       "    }\n",
       "</style>\n",
       "<table border=\"1\" class=\"dataframe\">\n",
       "  <thead>\n",
       "    <tr style=\"text-align: right;\">\n",
       "      <th></th>\n",
       "      <th>x</th>\n",
       "      <th>y</th>\n",
       "    </tr>\n",
       "  </thead>\n",
       "  <tbody>\n",
       "    <tr>\n",
       "      <th>0</th>\n",
       "      <td>100</td>\n",
       "      <td>96</td>\n",
       "    </tr>\n",
       "    <tr>\n",
       "      <th>1</th>\n",
       "      <td>93</td>\n",
       "      <td>90</td>\n",
       "    </tr>\n",
       "    <tr>\n",
       "      <th>2</th>\n",
       "      <td>84</td>\n",
       "      <td>89</td>\n",
       "    </tr>\n",
       "  </tbody>\n",
       "</table>\n",
       "</div>"
      ],
      "text/plain": [
       "     x   y\n",
       "0  100  96\n",
       "1   93  90\n",
       "2   84  89"
      ]
     },
     "execution_count": 65,
     "metadata": {},
     "output_type": "execute_result"
    }
   ],
   "source": [
    "import pandas as pd\n",
    "import numpy as np\n",
    "\n",
    "# generate our student grade data\n",
    "df = pd.DataFrame(np.array([[100, 96], [93, 90], [84, 89], [80, 85], [76, 80], [70, 68], [79, 75]]), columns = ['x', 'y'])\n",
    "\n",
    "x = df['x']\n",
    "y = df['y']\n",
    "\n",
    "df.head(3)\n"
   ]
  },
  {
   "cell_type": "code",
   "execution_count": 2,
   "id": "dc802ff1",
   "metadata": {},
   "outputs": [
    {
     "data": {
      "image/png": "[encoded data removed]",
      "text/plain": [
       "<Figure size 720x360 with 1 Axes>"
      ]
     },
     "metadata": {
      "needs_background": "light"
     },
     "output_type": "display_data"
    }
   ],
   "source": [
    "import viz\n",
    "import seaborn as sns\n",
    "import matplotlib.pyplot as plt\n",
    "\n",
    "plt.rc(\"axes.spines\", top=False, right=False)\n",
    "viz.evaluation_example1(df, x, y)\n"
   ]
  },
  {
   "cell_type": "markdown",
   "id": "243e9438",
   "metadata": {},
   "source": [
    "### Baseline (The very basic baseline is one that uses no model at all)\n",
    "\n",
    "\n",
    "### baseline predictions:  ^y = μy\n",
    "\n",
    "##### __NOTE:__ ^y is the 'yhat' == the mean of y"
   ]
  },
  {
   "cell_type": "code",
   "execution_count": 3,
   "id": "c4cb1ce8",
   "metadata": {},
   "outputs": [
    {
     "data": {
      "text/html": [
       "<div>\n",
       "<style scoped>\n",
       "    .dataframe tbody tr th:only-of-type {\n",
       "        vertical-align: middle;\n",
       "    }\n",
       "\n",
       "    .dataframe tbody tr th {\n",
       "        vertical-align: top;\n",
       "    }\n",
       "\n",
       "    .dataframe thead th {\n",
       "        text-align: right;\n",
       "    }\n",
       "</style>\n",
       "<table border=\"1\" class=\"dataframe\">\n",
       "  <thead>\n",
       "    <tr style=\"text-align: right;\">\n",
       "      <th></th>\n",
       "      <th>x</th>\n",
       "      <th>y</th>\n",
       "      <th>yhat_baseline</th>\n",
       "    </tr>\n",
       "  </thead>\n",
       "  <tbody>\n",
       "    <tr>\n",
       "      <th>0</th>\n",
       "      <td>100</td>\n",
       "      <td>96</td>\n",
       "      <td>83.285714</td>\n",
       "    </tr>\n",
       "    <tr>\n",
       "      <th>1</th>\n",
       "      <td>93</td>\n",
       "      <td>90</td>\n",
       "      <td>83.285714</td>\n",
       "    </tr>\n",
       "    <tr>\n",
       "      <th>2</th>\n",
       "      <td>84</td>\n",
       "      <td>89</td>\n",
       "      <td>83.285714</td>\n",
       "    </tr>\n",
       "    <tr>\n",
       "      <th>3</th>\n",
       "      <td>80</td>\n",
       "      <td>85</td>\n",
       "      <td>83.285714</td>\n",
       "    </tr>\n",
       "    <tr>\n",
       "      <th>4</th>\n",
       "      <td>76</td>\n",
       "      <td>80</td>\n",
       "      <td>83.285714</td>\n",
       "    </tr>\n",
       "  </tbody>\n",
       "</table>\n",
       "</div>"
      ],
      "text/plain": [
       "     x   y  yhat_baseline\n",
       "0  100  96      83.285714\n",
       "1   93  90      83.285714\n",
       "2   84  89      83.285714\n",
       "3   80  85      83.285714\n",
       "4   76  80      83.285714"
      ]
     },
     "execution_count": 3,
     "metadata": {},
     "output_type": "execute_result"
    }
   ],
   "source": [
    "df['yhat_baseline']= df['y'].mean()\n",
    "df.head()"
   ]
  },
  {
   "cell_type": "markdown",
   "id": "b3c87a2a",
   "metadata": {},
   "source": [
    "## Build Simple model\n",
    "\n",
    "We want to find the regression line where exam 1 is the feature or single independent variable and final grade is our target or dependent variable. We have a labeled dataset, so this is supervised machine learning. In short, we are going to provide a regression algorithm with our labeled data (our x and y values) and get in return the parameters needed for the optimal regression line. The parameters needed in a simple regression problem is the y-intercept and the slope/coefficient.\n",
    "\n",
    "X == exam 1\n",
    "\n",
    "y == final exam"
   ]
  },
  {
   "cell_type": "code",
   "execution_count": 4,
   "id": "c4333cf4",
   "metadata": {},
   "outputs": [
    {
     "data": {
      "text/html": [
       "<div>\n",
       "<style scoped>\n",
       "    .dataframe tbody tr th:only-of-type {\n",
       "        vertical-align: middle;\n",
       "    }\n",
       "\n",
       "    .dataframe tbody tr th {\n",
       "        vertical-align: top;\n",
       "    }\n",
       "\n",
       "    .dataframe thead th {\n",
       "        text-align: right;\n",
       "    }\n",
       "</style>\n",
       "<table border=\"1\" class=\"dataframe\">\n",
       "  <thead>\n",
       "    <tr style=\"text-align: right;\">\n",
       "      <th></th>\n",
       "      <th>x</th>\n",
       "      <th>y</th>\n",
       "      <th>yhat_baseline</th>\n",
       "      <th>yhat_predicted</th>\n",
       "    </tr>\n",
       "  </thead>\n",
       "  <tbody>\n",
       "    <tr>\n",
       "      <th>0</th>\n",
       "      <td>100</td>\n",
       "      <td>96</td>\n",
       "      <td>83.285714</td>\n",
       "      <td>97.635214</td>\n",
       "    </tr>\n",
       "    <tr>\n",
       "      <th>1</th>\n",
       "      <td>93</td>\n",
       "      <td>90</td>\n",
       "      <td>83.285714</td>\n",
       "      <td>91.676524</td>\n",
       "    </tr>\n",
       "    <tr>\n",
       "      <th>2</th>\n",
       "      <td>84</td>\n",
       "      <td>89</td>\n",
       "      <td>83.285714</td>\n",
       "      <td>84.015350</td>\n",
       "    </tr>\n",
       "  </tbody>\n",
       "</table>\n",
       "</div>"
      ],
      "text/plain": [
       "     x   y  yhat_baseline  yhat_predicted\n",
       "0  100  96      83.285714       97.635214\n",
       "1   93  90      83.285714       91.676524\n",
       "2   84  89      83.285714       84.015350"
      ]
     },
     "execution_count": 4,
     "metadata": {},
     "output_type": "execute_result"
    }
   ],
   "source": [
    "# Import the required lib\n",
    "\n",
    "from sklearn.linear_model import LinearRegression\n",
    "\n",
    "# generate parameters, i.e. create model\n",
    "ols_model = LinearRegression()\n",
    "\n",
    "# Fit the model\n",
    "ols_model.fit(df[['x']], df.y)\n",
    "\n",
    "# compute predictions and add to original dataframe\n",
    "df['yhat_predicted'] = ols_model.predict(df[['x']])\n",
    "\n",
    "df.head(3)\n"
   ]
  },
  {
   "cell_type": "code",
   "execution_count": 5,
   "id": "1d077d8a",
   "metadata": {},
   "outputs": [
    {
     "data": {
      "image/png": "[encoded data removed]",
      "text/plain": [
       "<Figure size 720x360 with 1 Axes>"
      ]
     },
     "metadata": {
      "needs_background": "light"
     },
     "output_type": "display_data"
    }
   ],
   "source": [
    "# viz model (prebuild module)\n",
    "# The thick green line is our regression line. It passes through the values for exam1 (x) and the predicted values for final grade (^y)\n",
    "\n",
    "\n",
    "viz.evaluation_example2(df, x, y)\n"
   ]
  },
  {
   "cell_type": "markdown",
   "id": "cb4eb4a6",
   "metadata": {},
   "source": [
    "## How could we determine which line is best, numerically? We will do that next.\n",
    "\n",
    "\n",
    "\n",
    "# (A). Manual Approach\n",
    "Manually Compute Evaluation Metrics.\n",
    "\n",
    "In this lesson, we will manually compute two common evaluation metric for regression models, the Mean Squared Error (MSE) and the Root Mean Squared Error (RMSE). To do so, we take the following steps:\n",
    "\n",
    "Compute the residual, or error, for each data point.\n",
    "Compute the SSE, Sum of Squared Errors, a.k.a. RSS, Residual Sum of Squares. This is simply squaring each of the errors computed in step one and summing them all together.\n",
    "Compute the MSE, Mean Squared Error. We arrive at this by dividing your SSE by the total number of data points, i.e. the average of your errors that have each been squared.\n",
    "Compute the RMSE, Root Mean Squared Error. Simply take the square root of the MSE.\n",
    "We will do this for both the predictions from the model and those from the baseline. We will then compare the final value of each. Whichever has the lower value is the better prediction.\n",
    "\n",
    ">- ### Residual, error for each data point\n",
    "\n",
    ">- ### SSE, Sum of Squared Errors (RSS, Residual Sum of Squares)\n",
    "\n",
    "\n",
    "\n",
    ">- ### MSE, Mean Squared Error\n",
    "\n",
    ">- ### RMSE, Root Mean Squared Error\n",
    "\n"
   ]
  },
  {
   "cell_type": "code",
   "execution_count": 6,
   "id": "284dddac",
   "metadata": {},
   "outputs": [],
   "source": [
    "from scipy import stats\n",
    "from sklearn.metrics import mean_squared_error, r2_score, explained_variance_score\n",
    "\n",
    "from sklearn.linear_model import LinearRegression\n",
    "from sklearn.feature_selection import f_regression \n",
    "from math import sqrt\n",
    "import matplotlib.pyplot as plt\n",
    "import warnings\n",
    "warnings.filterwarnings('ignore')\n"
   ]
  },
  {
   "cell_type": "markdown",
   "id": "c396d181",
   "metadata": {},
   "source": [
    "### The residual of an observed value is the difference between the observed value and the estimated value. Another way to state this is that it is the vertical distance from the original data point to the expected data point (which shares an x and sits on the regression line). In this exammple, the residual of an observation is the difference between that students actual final grade and the expected final grade.\n",
    "\n",
    "\n",
    ">- ### __Residuals: for each data point, (^y−y)__\n",
    "\n"
   ]
  },
  {
   "cell_type": "code",
   "execution_count": 7,
   "id": "a8f1420c",
   "metadata": {},
   "outputs": [],
   "source": [
    "# compute residuals\n",
    "df['residual'] = df['yhat_predicted'] - df['y']\n",
    "\n",
    "df['residual_baseline'] = df['yhat_baseline'] - df['y']\n"
   ]
  },
  {
   "cell_type": "code",
   "execution_count": 8,
   "id": "e2a9c42e",
   "metadata": {},
   "outputs": [
    {
     "data": {
      "text/html": [
       "<div>\n",
       "<style scoped>\n",
       "    .dataframe tbody tr th:only-of-type {\n",
       "        vertical-align: middle;\n",
       "    }\n",
       "\n",
       "    .dataframe tbody tr th {\n",
       "        vertical-align: top;\n",
       "    }\n",
       "\n",
       "    .dataframe thead th {\n",
       "        text-align: right;\n",
       "    }\n",
       "</style>\n",
       "<table border=\"1\" class=\"dataframe\">\n",
       "  <thead>\n",
       "    <tr style=\"text-align: right;\">\n",
       "      <th></th>\n",
       "      <th>x</th>\n",
       "      <th>y</th>\n",
       "      <th>yhat_baseline</th>\n",
       "      <th>yhat_predicted</th>\n",
       "      <th>residual</th>\n",
       "      <th>residual_baseline</th>\n",
       "    </tr>\n",
       "  </thead>\n",
       "  <tbody>\n",
       "    <tr>\n",
       "      <th>0</th>\n",
       "      <td>100</td>\n",
       "      <td>96</td>\n",
       "      <td>83.285714</td>\n",
       "      <td>97.635214</td>\n",
       "      <td>1.635214</td>\n",
       "      <td>-12.714286</td>\n",
       "    </tr>\n",
       "    <tr>\n",
       "      <th>1</th>\n",
       "      <td>93</td>\n",
       "      <td>90</td>\n",
       "      <td>83.285714</td>\n",
       "      <td>91.676524</td>\n",
       "      <td>1.676524</td>\n",
       "      <td>-6.714286</td>\n",
       "    </tr>\n",
       "    <tr>\n",
       "      <th>2</th>\n",
       "      <td>84</td>\n",
       "      <td>89</td>\n",
       "      <td>83.285714</td>\n",
       "      <td>84.015350</td>\n",
       "      <td>-4.984650</td>\n",
       "      <td>-5.714286</td>\n",
       "    </tr>\n",
       "    <tr>\n",
       "      <th>3</th>\n",
       "      <td>80</td>\n",
       "      <td>85</td>\n",
       "      <td>83.285714</td>\n",
       "      <td>80.610384</td>\n",
       "      <td>-4.389616</td>\n",
       "      <td>-1.714286</td>\n",
       "    </tr>\n",
       "    <tr>\n",
       "      <th>4</th>\n",
       "      <td>76</td>\n",
       "      <td>80</td>\n",
       "      <td>83.285714</td>\n",
       "      <td>77.205418</td>\n",
       "      <td>-2.794582</td>\n",
       "      <td>3.285714</td>\n",
       "    </tr>\n",
       "  </tbody>\n",
       "</table>\n",
       "</div>"
      ],
      "text/plain": [
       "     x   y  yhat_baseline  yhat_predicted  residual  residual_baseline\n",
       "0  100  96      83.285714       97.635214  1.635214         -12.714286\n",
       "1   93  90      83.285714       91.676524  1.676524          -6.714286\n",
       "2   84  89      83.285714       84.015350 -4.984650          -5.714286\n",
       "3   80  85      83.285714       80.610384 -4.389616          -1.714286\n",
       "4   76  80      83.285714       77.205418 -2.794582           3.285714"
      ]
     },
     "execution_count": 8,
     "metadata": {},
     "output_type": "execute_result"
    }
   ],
   "source": [
    "df.head()"
   ]
  },
  {
   "cell_type": "markdown",
   "id": "fb4e1135",
   "metadata": {},
   "source": [
    "# Visualize baseline residuals"
   ]
  },
  {
   "cell_type": "code",
   "execution_count": 9,
   "id": "4bde90cb",
   "metadata": {},
   "outputs": [
    {
     "data": {
      "image/png": "[encoded data removed]",
      "text/plain": [
       "<Figure size 720x360 with 1 Axes>"
      ]
     },
     "metadata": {
      "needs_background": "light"
     },
     "output_type": "display_data"
    },
    {
     "data": {
      "image/png": "[encoded data removed]",
      "text/plain": [
       "<Figure size 720x360 with 1 Axes>"
      ]
     },
     "metadata": {
      "needs_background": "light"
     },
     "output_type": "display_data"
    }
   ],
   "source": [
    "viz.evaluation_example5(df, x, df.residual_baseline)\n",
    "\n",
    "viz.evaluation_example5(df, x, df.residual)\n"
   ]
  },
  {
   "cell_type": "markdown",
   "id": "975d3bd6",
   "metadata": {},
   "source": [
    ">- ## SSE, Sum of Squared Errors / RSS, Residual Sum of Squares\n",
    "\n",
    "\n",
    "The value of the SSE is derived by simply squaring each of the errors computed in step one and summing them all together.\n"
   ]
  },
  {
   "cell_type": "code",
   "execution_count": 10,
   "id": "e7405bb9",
   "metadata": {},
   "outputs": [
    {
     "data": {
      "text/html": [
       "<div>\n",
       "<style scoped>\n",
       "    .dataframe tbody tr th:only-of-type {\n",
       "        vertical-align: middle;\n",
       "    }\n",
       "\n",
       "    .dataframe tbody tr th {\n",
       "        vertical-align: top;\n",
       "    }\n",
       "\n",
       "    .dataframe thead th {\n",
       "        text-align: right;\n",
       "    }\n",
       "</style>\n",
       "<table border=\"1\" class=\"dataframe\">\n",
       "  <thead>\n",
       "    <tr style=\"text-align: right;\">\n",
       "      <th></th>\n",
       "      <th>x</th>\n",
       "      <th>y</th>\n",
       "      <th>yhat_baseline</th>\n",
       "      <th>yhat_predicted</th>\n",
       "      <th>residual</th>\n",
       "      <th>residual_baseline</th>\n",
       "      <th>residual^2</th>\n",
       "      <th>residual_baseline^2</th>\n",
       "    </tr>\n",
       "  </thead>\n",
       "  <tbody>\n",
       "    <tr>\n",
       "      <th>0</th>\n",
       "      <td>100</td>\n",
       "      <td>96</td>\n",
       "      <td>83.285714</td>\n",
       "      <td>97.635214</td>\n",
       "      <td>1.635214</td>\n",
       "      <td>-12.714286</td>\n",
       "      <td>2.673926</td>\n",
       "      <td>161.653061</td>\n",
       "    </tr>\n",
       "    <tr>\n",
       "      <th>1</th>\n",
       "      <td>93</td>\n",
       "      <td>90</td>\n",
       "      <td>83.285714</td>\n",
       "      <td>91.676524</td>\n",
       "      <td>1.676524</td>\n",
       "      <td>-6.714286</td>\n",
       "      <td>2.810732</td>\n",
       "      <td>45.081633</td>\n",
       "    </tr>\n",
       "    <tr>\n",
       "      <th>2</th>\n",
       "      <td>84</td>\n",
       "      <td>89</td>\n",
       "      <td>83.285714</td>\n",
       "      <td>84.015350</td>\n",
       "      <td>-4.984650</td>\n",
       "      <td>-5.714286</td>\n",
       "      <td>24.846737</td>\n",
       "      <td>32.653061</td>\n",
       "    </tr>\n",
       "  </tbody>\n",
       "</table>\n",
       "</div>"
      ],
      "text/plain": [
       "     x   y  yhat_baseline  yhat_predicted  residual  residual_baseline  \\\n",
       "0  100  96      83.285714       97.635214  1.635214         -12.714286   \n",
       "1   93  90      83.285714       91.676524  1.676524          -6.714286   \n",
       "2   84  89      83.285714       84.015350 -4.984650          -5.714286   \n",
       "\n",
       "   residual^2  residual_baseline^2  \n",
       "0    2.673926           161.653061  \n",
       "1    2.810732            45.081633  \n",
       "2   24.846737            32.653061  "
      ]
     },
     "execution_count": 10,
     "metadata": {},
     "output_type": "execute_result"
    }
   ],
   "source": [
    "# square each residual value\n",
    "df['residual^2'] = df.residual ** 2\n",
    "\n",
    "df['residual_baseline^2'] = df.residual_baseline ** 2\n",
    "\n",
    "df.head(3)\n"
   ]
  },
  {
   "cell_type": "code",
   "execution_count": 20,
   "id": "97feb341",
   "metadata": {},
   "outputs": [
    {
     "name": "stdout",
     "output_type": "stream",
     "text": [
      "SSE predicted model =  96.85259593679456\n",
      "SSE residual baseline =  555.4285714285714\n"
     ]
    }
   ],
   "source": [
    "# ...After squaring, compute the SSE\n",
    "SSE = sum(df['residual^2'])\n",
    "SSE_baseline = sum(df['residual_baseline^2'])\n",
    "\n",
    "print(\"SSE predicted model = \", SSE)\n",
    "print(\"SSE residual baseline = \", SSE_baseline)\n"
   ]
  },
  {
   "cell_type": "markdown",
   "id": "ced2d43f",
   "metadata": {},
   "source": [
    "### SSE Explanationm\n",
    "\n",
    "At second glance (after visualizing the residual plot), it appears the model is performing better than the baseline. However, it could be do to a single outlier that drastically has increased the SSE. (Well, we know it's not becuase we plotted the residuals, but if we hadn't, that could be the case.)"
   ]
  },
  {
   "cell_type": "markdown",
   "id": "fd9a2ba2",
   "metadata": {},
   "source": [
    ">- ## MSE, Mean Squared Error\n",
    "\n",
    "\n",
    "\n",
    "Next, we can use the SSE to compute the Mean Squared Error, MSE. We arrive at this by dividing your SSE by the total number of data points, i.e. the average of your errors that have each been squared. If outliers don't matter as much, but cost exponential instead of linear, then this is a good metric to use. That means that a residual of 10 (the expected value is 10 units off the actual value) is greater than twice a residual of 5.\n",
    "\n",
    "\n"
   ]
  },
  {
   "cell_type": "code",
   "execution_count": 18,
   "id": "e7e6b272",
   "metadata": {},
   "outputs": [
    {
     "name": "stdout",
     "output_type": "stream",
     "text": [
      "MSE predicted model =  13.836085133827794\n",
      "MSE baseline =  79.34693877551021\n"
     ]
    }
   ],
   "source": [
    "MSE = SSE/len(df)\n",
    "MSE_baseline = SSE_baseline/len(df)\n",
    "\n",
    "print(\"MSE predicted model = \", MSE)\n",
    "print(\"MSE baseline = \", MSE_baseline)\n"
   ]
  },
  {
   "cell_type": "markdown",
   "id": "84a251ca",
   "metadata": {},
   "source": [
    "### MSE Explanation\n",
    "\n",
    "It is clear the model is performing better than the baseline."
   ]
  },
  {
   "cell_type": "markdown",
   "id": "652a155e",
   "metadata": {},
   "source": [
    ">- ## RMSE, Root Mean Squared Error\n",
    "\n",
    "Now, we can use the MSE to compute the Root Mean Squared Error, RMSE. Simply take the square root of the MSE. If you want to see the error in the actual units of the y variable, then this is a good metric to use. In this case, the units will be grade points."
   ]
  },
  {
   "cell_type": "code",
   "execution_count": 22,
   "id": "8c0669ea",
   "metadata": {},
   "outputs": [
    {
     "name": "stdout",
     "output_type": "stream",
     "text": [
      "RMSE predicted model =  3.719688849060872\n",
      "RMSE baseline =  8.907689867497083\n"
     ]
    }
   ],
   "source": [
    "from math import sqrt\n",
    "RMSE = sqrt(MSE)\n",
    "RMSE_baseline = sqrt(MSE_baseline)\n",
    "\n",
    "print(\"RMSE predicted model = \", RMSE)\n",
    "print(\"RMSE baseline = \", RMSE_baseline)\n"
   ]
  },
  {
   "cell_type": "markdown",
   "id": "eb3abaa8",
   "metadata": {},
   "source": [
    "### RMSE Explanation \n",
    "\n",
    "We can see that the model is off by an average of 3.7 grade points, while the baseline is off by an average of 8.9 grade points. The model does better than having no model at all.\n",
    "\n"
   ]
  },
  {
   "cell_type": "markdown",
   "id": "e72a659f",
   "metadata": {},
   "source": [
    "# (B). Scikit Learn Approach"
   ]
  },
  {
   "cell_type": "markdown",
   "id": "a78b22f5",
   "metadata": {},
   "source": [
    "### Computing the SSE\n",
    "\n",
    "To compute the SSE or RSS, we must use the mean_squared_error function, as sklearn.metrics does not have a function for SSE directly. All we need to do is multiply the MSE by n, the number of data points."
   ]
  },
  {
   "cell_type": "code",
   "execution_count": 26,
   "id": "69c885fb",
   "metadata": {},
   "outputs": [
    {
     "name": "stdout",
     "output_type": "stream",
     "text": [
      "SSE manual == SSE sklearn:  True\n",
      "\n",
      "SSE manual - baseline == SSE sklearn - baseline:  True\n"
     ]
    }
   ],
   "source": [
    "from sklearn.metrics import mean_squared_error\n",
    "\n",
    "SSE2 = mean_squared_error(df.y, df.yhat_predicted)*len(df)\n",
    "\n",
    "SSE2_baseline = mean_squared_error(df.y, df.yhat_baseline)*len(df)\n",
    "\n",
    "print(\"SSE manual == SSE sklearn: \", SSE == SSE2) \n",
    "print()\n",
    "print(\"SSE manual - baseline == SSE sklearn - baseline: \", SSE_baseline == SSE2_baseline) \n"
   ]
  },
  {
   "cell_type": "markdown",
   "id": "7d93b846",
   "metadata": {},
   "source": [
    "### Computing the MSE\n"
   ]
  },
  {
   "cell_type": "code",
   "execution_count": 28,
   "id": "ce63fa3a",
   "metadata": {},
   "outputs": [
    {
     "name": "stdout",
     "output_type": "stream",
     "text": [
      "MSE manual == MSE sklearn:  True\n",
      "MSE manual - baseline == MSE sklearn - baseline:  True\n"
     ]
    }
   ],
   "source": [
    "MSE2 = mean_squared_error(df.y, df.yhat_predicted)\n",
    "\n",
    "MSE2_baseline = mean_squared_error(df.y, df.yhat_baseline)\n",
    "\n",
    "\n",
    "print(\"MSE manual == MSE sklearn: \", MSE == MSE2) \n",
    "print(\"MSE manual - baseline == MSE sklearn - baseline: \", MSE_baseline == MSE2_baseline) \n"
   ]
  },
  {
   "cell_type": "markdown",
   "id": "c4830b96",
   "metadata": {},
   "source": [
    "### Computing the RMSE\n"
   ]
  },
  {
   "cell_type": "code",
   "execution_count": 29,
   "id": "1b19319d",
   "metadata": {},
   "outputs": [
    {
     "name": "stdout",
     "output_type": "stream",
     "text": [
      "RMSE manual == RMSE skearn:  True\n",
      "RMSE manual - baseline == RMSE skearn - baseline:  True\n"
     ]
    }
   ],
   "source": [
    "RMSE2 = sqrt(mean_squared_error(df.y, df.yhat_predicted))\n",
    "RMSE2_baseline = sqrt(mean_squared_error(df.y, df.yhat_baseline))\n",
    "\n",
    "print(\"RMSE manual == RMSE skearn: \", RMSE == RMSE2) \n",
    "print(\"RMSE manual - baseline == RMSE skearn - baseline: \", RMSE_baseline == RMSE2_baseline) \n"
   ]
  },
  {
   "cell_type": "code",
   "execution_count": 33,
   "id": "d90a9023",
   "metadata": {},
   "outputs": [
    {
     "name": "stdout",
     "output_type": "stream",
     "text": [
      "  metric  model_error\n",
      "0    SSE    96.852596\n",
      "1    MSE    13.836085\n",
      "2   RMSE     3.719689\n",
      "\n",
      "          metric  model_error\n",
      "0   SSE_baseline   555.428571\n",
      "1   MSE_baseline    79.346939\n",
      "2  RMSE_baseline     8.907690\n"
     ]
    }
   ],
   "source": [
    "df_eval = pd.DataFrame(np.array(['SSE','MSE','RMSE']), columns=['metric'])\n",
    "df_baseline_eval = pd.DataFrame(np.array(['SSE_baseline','MSE_baseline','RMSE_baseline']), columns=['metric'])\n",
    "\n",
    "df_eval['model_error'] = np.array([SSE, MSE, RMSE])\n",
    "df_baseline_eval['model_error'] = np.array([SSE_baseline, MSE_baseline, RMSE_baseline])\n",
    "\n",
    "print(df_eval)\n",
    "print()\n",
    "print(df_baseline_eval)\n"
   ]
  },
  {
   "cell_type": "code",
   "execution_count": 35,
   "id": "0f21a733",
   "metadata": {},
   "outputs": [
    {
     "data": {
      "text/html": [
       "<div>\n",
       "<style scoped>\n",
       "    .dataframe tbody tr th:only-of-type {\n",
       "        vertical-align: middle;\n",
       "    }\n",
       "\n",
       "    .dataframe tbody tr th {\n",
       "        vertical-align: top;\n",
       "    }\n",
       "\n",
       "    .dataframe thead th {\n",
       "        text-align: right;\n",
       "    }\n",
       "</style>\n",
       "<table border=\"1\" class=\"dataframe\">\n",
       "  <thead>\n",
       "    <tr style=\"text-align: right;\">\n",
       "      <th></th>\n",
       "      <th>x</th>\n",
       "      <th>y</th>\n",
       "      <th>yhat_baseline</th>\n",
       "      <th>yhat_predicted</th>\n",
       "      <th>residual</th>\n",
       "      <th>residual_baseline</th>\n",
       "      <th>residual^2</th>\n",
       "      <th>residual_baseline^2</th>\n",
       "    </tr>\n",
       "  </thead>\n",
       "  <tbody>\n",
       "    <tr>\n",
       "      <th>0</th>\n",
       "      <td>100</td>\n",
       "      <td>96</td>\n",
       "      <td>83.285714</td>\n",
       "      <td>97.635214</td>\n",
       "      <td>1.635214</td>\n",
       "      <td>-12.714286</td>\n",
       "      <td>2.673926</td>\n",
       "      <td>161.653061</td>\n",
       "    </tr>\n",
       "    <tr>\n",
       "      <th>1</th>\n",
       "      <td>93</td>\n",
       "      <td>90</td>\n",
       "      <td>83.285714</td>\n",
       "      <td>91.676524</td>\n",
       "      <td>1.676524</td>\n",
       "      <td>-6.714286</td>\n",
       "      <td>2.810732</td>\n",
       "      <td>45.081633</td>\n",
       "    </tr>\n",
       "    <tr>\n",
       "      <th>2</th>\n",
       "      <td>84</td>\n",
       "      <td>89</td>\n",
       "      <td>83.285714</td>\n",
       "      <td>84.015350</td>\n",
       "      <td>-4.984650</td>\n",
       "      <td>-5.714286</td>\n",
       "      <td>24.846737</td>\n",
       "      <td>32.653061</td>\n",
       "    </tr>\n",
       "  </tbody>\n",
       "</table>\n",
       "</div>"
      ],
      "text/plain": [
       "     x   y  yhat_baseline  yhat_predicted  residual  residual_baseline  \\\n",
       "0  100  96      83.285714       97.635214  1.635214         -12.714286   \n",
       "1   93  90      83.285714       91.676524  1.676524          -6.714286   \n",
       "2   84  89      83.285714       84.015350 -4.984650          -5.714286   \n",
       "\n",
       "   residual^2  residual_baseline^2  \n",
       "0    2.673926           161.653061  \n",
       "1    2.810732            45.081633  \n",
       "2   24.846737            32.653061  "
      ]
     },
     "execution_count": 35,
     "metadata": {},
     "output_type": "execute_result"
    }
   ],
   "source": [
    "df.head(3)"
   ]
  },
  {
   "cell_type": "markdown",
   "id": "38fb1d7f",
   "metadata": {},
   "source": [
    "## Draw Conclusions"
   ]
  },
  {
   "cell_type": "code",
   "execution_count": 32,
   "id": "8a27b3c7",
   "metadata": {},
   "outputs": [
    {
     "data": {
      "text/html": [
       "<div>\n",
       "<style scoped>\n",
       "    .dataframe tbody tr th:only-of-type {\n",
       "        vertical-align: middle;\n",
       "    }\n",
       "\n",
       "    .dataframe tbody tr th {\n",
       "        vertical-align: top;\n",
       "    }\n",
       "\n",
       "    .dataframe thead th {\n",
       "        text-align: right;\n",
       "    }\n",
       "</style>\n",
       "<table border=\"1\" class=\"dataframe\">\n",
       "  <thead>\n",
       "    <tr style=\"text-align: right;\">\n",
       "      <th></th>\n",
       "      <th>metric</th>\n",
       "      <th>model_error</th>\n",
       "      <th>error_delta</th>\n",
       "    </tr>\n",
       "  </thead>\n",
       "  <tbody>\n",
       "    <tr>\n",
       "      <th>0</th>\n",
       "      <td>SSE</td>\n",
       "      <td>96.852596</td>\n",
       "      <td>-458.575975</td>\n",
       "    </tr>\n",
       "    <tr>\n",
       "      <th>1</th>\n",
       "      <td>MSE</td>\n",
       "      <td>13.836085</td>\n",
       "      <td>-65.510854</td>\n",
       "    </tr>\n",
       "    <tr>\n",
       "      <th>2</th>\n",
       "      <td>RMSE</td>\n",
       "      <td>3.719689</td>\n",
       "      <td>-5.188001</td>\n",
       "    </tr>\n",
       "  </tbody>\n",
       "</table>\n",
       "</div>"
      ],
      "text/plain": [
       "  metric  model_error  error_delta\n",
       "0    SSE    96.852596  -458.575975\n",
       "1    MSE    13.836085   -65.510854\n",
       "2   RMSE     3.719689    -5.188001"
      ]
     },
     "execution_count": 32,
     "metadata": {},
     "output_type": "execute_result"
    }
   ],
   "source": [
    "df_eval['error_delta'] = df_eval.model_error - df_baseline_eval.model_error\n",
    "df_eval\n"
   ]
  },
  {
   "cell_type": "markdown",
   "id": "276aa93b",
   "metadata": {},
   "source": [
    "# Evaluate Model Significance\n",
    "\n",
    "R^2 tells you how well your model fits the data by measuring the strength of the relationship between your model and the dependent variable. However, it is not a formal test for the relationship. The F-test of overall significance is the hypothesis test for this relationship. It indicates whether your linear regression model provides a better fit to the data than a model that contains no independent variables.\n",
    "\n",
    "If the overall F-test is significant (evident through the p-value of the F statistic), you can conclude that \n",
    "R^2 does not equal zero, and the correlation between the model and dependent variable is statistically significant.\n",
    "\n",
    ">- ### R^2 is the ratio of the explained sum of squares (ESS) to the total sum of squares (TSS). When turned into a percentage, R^2 x 100, it represents the percent of variance in y (target) explained by x (feature).\n",
    "\n",
    "\n",
    "\n",
    ">- ## ESS explained sum of squares \n",
    "The sum of the difference between the each predicted value (predicted final grade, in this example) and the mean of all actual values (again, final grades).\n",
    "\n",
    "\n",
    "\n",
    ">- ## TSS total sum of squares\n",
    "The sum of difference between the actual final grade and the mean of all final grades. It can also be derived by summing the ESS and SSE."
   ]
  },
  {
   "cell_type": "markdown",
   "id": "b2de6a31",
   "metadata": {},
   "source": [
    "# R^2 = (ESS / TSS )\n",
    "\n",
    ">- ### NOTE: R^2 is R-squared"
   ]
  },
  {
   "cell_type": "markdown",
   "id": "4d267081",
   "metadata": {},
   "source": [
    "## Compute EES"
   ]
  },
  {
   "cell_type": "code",
   "execution_count": 40,
   "id": "3448a61d",
   "metadata": {},
   "outputs": [
    {
     "data": {
      "text/plain": [
       "458.57597549177694"
      ]
     },
     "execution_count": 40,
     "metadata": {},
     "output_type": "execute_result"
    }
   ],
   "source": [
    "# compute explained sum of squares\n",
    "ESS = sum((df.yhat_predicted - df.y.mean())**2)\n",
    "ESS"
   ]
  },
  {
   "cell_type": "code",
   "execution_count": 41,
   "id": "1a6e07ed",
   "metadata": {},
   "outputs": [
    {
     "name": "stdout",
     "output_type": "stream",
     "text": [
      "ESS =  458.57597549177694\n",
      "SSE =  96.85259593679456\n",
      "TSS =  555.4285714285716\n"
     ]
    }
   ],
   "source": [
    "SSE = df_eval[df_eval.metric=='SSE']['model_error']\n",
    "TSS = ESS + SSE\n",
    "print(\"ESS = \", ESS)\n",
    "print(\"SSE = \", SSE[0])\n",
    "print(\"TSS = \", TSS[0])\n"
   ]
  },
  {
   "cell_type": "markdown",
   "id": "0aa8e5e3",
   "metadata": {},
   "source": [
    "## Compare the models side by side\n",
    "\n",
    "## A). Manually Computed"
   ]
  },
  {
   "cell_type": "code",
   "execution_count": 42,
   "id": "2cbebcc9",
   "metadata": {},
   "outputs": [],
   "source": [
    "# add the ESS, SSE, TSS from the model to a dataframe\n",
    "ss = pd.DataFrame(np.array(['SSE','ESS','TSS']), columns=['metric'])\n",
    "ss['model_values'] = np.array([SSE[0], ESS, TSS[0]])\n",
    "\n",
    "# compute and add the baseline values to the dataframe\n",
    "ESS_baseline = sum((df.yhat_baseline - df.y.mean())**2)\n",
    "SSE_baseline = df_baseline_eval[df_baseline_eval.metric=='SSE_baseline']['model_error'][0]\n",
    "TSS_baseline = ESS_baseline + SSE_baseline\n"
   ]
  },
  {
   "cell_type": "code",
   "execution_count": 43,
   "id": "0bb03f51",
   "metadata": {},
   "outputs": [
    {
     "data": {
      "text/html": [
       "<div>\n",
       "<style scoped>\n",
       "    .dataframe tbody tr th:only-of-type {\n",
       "        vertical-align: middle;\n",
       "    }\n",
       "\n",
       "    .dataframe tbody tr th {\n",
       "        vertical-align: top;\n",
       "    }\n",
       "\n",
       "    .dataframe thead th {\n",
       "        text-align: right;\n",
       "    }\n",
       "</style>\n",
       "<table border=\"1\" class=\"dataframe\">\n",
       "  <thead>\n",
       "    <tr style=\"text-align: right;\">\n",
       "      <th></th>\n",
       "      <th>metric</th>\n",
       "      <th>model_values</th>\n",
       "    </tr>\n",
       "  </thead>\n",
       "  <tbody>\n",
       "    <tr>\n",
       "      <th>0</th>\n",
       "      <td>SSE</td>\n",
       "      <td>555.428571</td>\n",
       "    </tr>\n",
       "    <tr>\n",
       "      <th>1</th>\n",
       "      <td>ESS</td>\n",
       "      <td>0.000000</td>\n",
       "    </tr>\n",
       "    <tr>\n",
       "      <th>2</th>\n",
       "      <td>TSS</td>\n",
       "      <td>555.428571</td>\n",
       "    </tr>\n",
       "  </tbody>\n",
       "</table>\n",
       "</div>"
      ],
      "text/plain": [
       "  metric  model_values\n",
       "0    SSE    555.428571\n",
       "1    ESS      0.000000\n",
       "2    TSS    555.428571"
      ]
     },
     "execution_count": 43,
     "metadata": {},
     "output_type": "execute_result"
    }
   ],
   "source": [
    "ss['model_values'] = np.array([SSE_baseline, ESS_baseline, TSS_baseline])\n",
    "\n",
    "ss\n"
   ]
  },
  {
   "cell_type": "markdown",
   "id": "8b57ccb8",
   "metadata": {},
   "source": [
    "## R-Squared"
   ]
  },
  {
   "cell_type": "code",
   "execution_count": 44,
   "id": "0f4af4dd",
   "metadata": {},
   "outputs": [
    {
     "name": "stdout",
     "output_type": "stream",
     "text": [
      "R-squared =  0    0.826\n",
      "Name: model_error, dtype: float64\n",
      "Percent of variance in y explained by x =  0    82.6\n",
      "Name: model_error, dtype: float64 %\n"
     ]
    }
   ],
   "source": [
    "R2 = ESS/TSS\n",
    "print('R-squared = ',round(R2,3))\n",
    "print(\"Percent of variance in y explained by x = \", round(R2*100,1), \"%\")\n"
   ]
  },
  {
   "cell_type": "markdown",
   "id": "0c998cc6",
   "metadata": {},
   "source": [
    "## B). Using Scikit-Learn"
   ]
  },
  {
   "cell_type": "code",
   "execution_count": 46,
   "id": "6315f187",
   "metadata": {},
   "outputs": [
    {
     "name": "stdout",
     "output_type": "stream",
     "text": [
      "Explained Variance =  82.6\n"
     ]
    }
   ],
   "source": [
    "# sklearn.metrics.explained_variance_score\n",
    "\n",
    "evs = explained_variance_score(df.y, df.yhat_predicted)\n",
    "print('Explained Variance = ', round(evs,3)*100)\n"
   ]
  },
  {
   "cell_type": "code",
   "execution_count": null,
   "id": "6be91367",
   "metadata": {},
   "outputs": [],
   "source": []
  },
  {
   "cell_type": "code",
   "execution_count": null,
   "id": "4070b40e",
   "metadata": {},
   "outputs": [],
   "source": []
  },
  {
   "cell_type": "code",
   "execution_count": null,
   "id": "9b63c9b3",
   "metadata": {},
   "outputs": [],
   "source": []
  },
  {
   "cell_type": "code",
   "execution_count": null,
   "id": "8e7f5c66",
   "metadata": {},
   "outputs": [],
   "source": []
  }
 ],
 "metadata": {
  "kernelspec": {
   "display_name": "Python 3 (ipykernel)",
   "language": "python",
   "name": "python3"
  },
  "language_info": {
   "codemirror_mode": {
    "name": "ipython",
    "version": 3
   },
   "file_extension": ".py",
   "mimetype": "text/x-python",
   "name": "python",
   "nbconvert_exporter": "python",
   "pygments_lexer": "ipython3",
   "version": "3.9.7"
  }
 },
 "nbformat": 4,
 "nbformat_minor": 5
}
